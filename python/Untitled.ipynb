{
 "cells": [
  {
   "cell_type": "markdown",
   "id": "portable-petersburg",
   "metadata": {},
   "source": [
    "<img src = \"https://i.imgur.com/HRhd2Y0.png\">"
   ]
  },
  {
   "cell_type": "code",
   "execution_count": 1,
   "id": "intensive-newspaper",
   "metadata": {},
   "outputs": [],
   "source": [
    "import pandas as pd\n",
    "import sqlite3"
   ]
  },
  {
   "cell_type": "code",
   "execution_count": 2,
   "id": "endangered-assist",
   "metadata": {},
   "outputs": [],
   "source": [
    "orders_df = pd.read_csv('../data/raw/olist_orders_dataset.csv')\n",
    "orders_items_df = pd.read_csv('../data/raw/olist_order_items_dataset.csv')\n",
    "products_df = pd.read_csv('../data/raw/olist_products_dataset.csv')\n",
    "customers_df = pd.read_csv('../data/raw/olist_customers_dataset.csv')\n",
    "reviews_df = pd.read_csv('../data/raw/olist_order_reviews_dataset.csv')"
   ]
  },
  {
   "cell_type": "code",
   "execution_count": 30,
   "id": "indie-layer",
   "metadata": {},
   "outputs": [],
   "source": [
    "# Connect to sqlite db and create tables if they don't exist\n",
    "cnx = sqlite3.connect('olist.db')\n",
    "\n",
    "orders_df.to_sql(name='orders', con=cnx, if_exists='replace')\n",
    "orders_items_df.to_sql(name='orders_items', con=cnx, if_exists='replace')\n",
    "products_df.to_sql(name='products', con=cnx, if_exists='replace')\n",
    "customers_df.to_sql(name='customers', con=cnx, if_exists='replace')\n",
    "reviews_df.to_sql(name='reviews', con=cnx, if_exists='replace')"
   ]
  },
  {
   "cell_type": "code",
   "execution_count": 31,
   "id": "religious-tumor",
   "metadata": {},
   "outputs": [],
   "source": [
    "%%capture\n",
    "%load_ext sql\n",
    "%sql sqlite:///olist.db"
   ]
  },
  {
   "cell_type": "markdown",
   "id": "supposed-competition",
   "metadata": {},
   "source": [
    "## Question 1 : which category has the best and worst ratings?"
   ]
  },
  {
   "cell_type": "markdown",
   "id": "informational-crime",
   "metadata": {},
   "source": [
    "order_items is the table that should give us the connection between an orders and products.\n",
    "<br><br>\n",
    "To understand better the relationship between orders, items, products and category, we will first have to explore some of these fields."
   ]
  },
  {
   "cell_type": "markdown",
   "id": "electrical-edinburgh",
   "metadata": {},
   "source": [
    "### Order items exploration\n",
    "In the description of the dataset on Kaggle we can read the following note:\n",
    ">\"An order might have multiple items.\"\n",
    "\n",
    "<br>\n",
    "Let's validate this assumption by using order_item_id in order_items table."
   ]
  },
  {
   "cell_type": "code",
   "execution_count": 41,
   "id": "destroyed-grace",
   "metadata": {
    "scrolled": true
   },
   "outputs": [
    {
     "name": "stdout",
     "output_type": "stream",
     "text": [
      " * sqlite:///olist.db\n",
      "Done.\n"
     ]
    },
    {
     "data": {
      "text/html": [
       "<table>\n",
       "    <tr>\n",
       "        <th>orders_with_multiple_items_count</th>\n",
       "        <th>percentage_of_orders</th>\n",
       "        <th>max_items_count</th>\n",
       "    </tr>\n",
       "    <tr>\n",
       "        <td>9803</td>\n",
       "        <td>9.858</td>\n",
       "        <td>21</td>\n",
       "    </tr>\n",
       "</table>"
      ],
      "text/plain": [
       "[(9803, 9.858, 21)]"
      ]
     },
     "execution_count": 41,
     "metadata": {},
     "output_type": "execute_result"
    }
   ],
   "source": [
    "%%sql\n",
    "WITH orders_with_multiple_items AS ( \n",
    "    SELECT COUNT(DISTINCT order_item_id) AS items_count, order_id\n",
    "    FROM orders_items\n",
    "    GROUP BY order_id\n",
    "    HAVING items_count>1\n",
    "    ORDER BY items_count DESC)\n",
    "SELECT \n",
    "    COUNT(*) AS orders_with_multiple_items_count, \n",
    "    ROUND(\n",
    "        CAST( COUNT(*) AS FLOAT) / ( SELECT COUNT(*) FROM orders) * 100, 3\n",
    "    ) AS percentage_of_orders,\n",
    "    MAX(items_count) AS max_items_count\n",
    "FROM orders_with_multiple_items m\n",
    "LIMIT 5;"
   ]
  },
  {
   "cell_type": "markdown",
   "id": "growing-surface",
   "metadata": {},
   "source": [
    "So it looks like there are multiple orders that have multiple items.\n",
    "In the documentation, order_item_id is described as : \n",
    ">sequential number identifying number of items included in the same order."
   ]
  },
  {
   "cell_type": "markdown",
   "id": "flexible-leone",
   "metadata": {},
   "source": [
    "### Products exploration\n",
    "\n",
    "Our business question is about the **category** that has the best/worst ratings.<br>\n",
    "Looking at the products table, we can see that category is a feature of a product, so we will have to focus on product_id column in order_items table."
   ]
  },
  {
   "cell_type": "code",
   "execution_count": 42,
   "id": "continent-knock",
   "metadata": {},
   "outputs": [
    {
     "name": "stdout",
     "output_type": "stream",
     "text": [
      " * sqlite:///olist.db\n",
      "Done.\n"
     ]
    },
    {
     "data": {
      "text/html": [
       "<table>\n",
       "    <tr>\n",
       "        <th>orders_with_multiple_prods_count</th>\n",
       "        <th>percentage_of_orders</th>\n",
       "        <th>max_prods_count</th>\n",
       "    </tr>\n",
       "    <tr>\n",
       "        <td>3236</td>\n",
       "        <td>3.254</td>\n",
       "        <td>8</td>\n",
       "    </tr>\n",
       "</table>"
      ],
      "text/plain": [
       "[(3236, 3.254, 8)]"
      ]
     },
     "execution_count": 42,
     "metadata": {},
     "output_type": "execute_result"
    }
   ],
   "source": [
    "%%sql\n",
    "WITH orders_with_multiple_prods AS ( \n",
    "    SELECT COUNT(DISTINCT product_id) AS prods_count, order_id\n",
    "    FROM orders_items\n",
    "    GROUP BY order_id\n",
    "    HAVING prods_count>1\n",
    "    ORDER BY prods_count DESC)\n",
    "SELECT \n",
    "    COUNT(*) AS orders_with_multiple_prods_count,\n",
    "    ROUND(\n",
    "       CAST( COUNT(*) AS FLOAT) / ( SELECT COUNT(*) FROM orders) * 100, 3\n",
    "    ) AS percentage_of_orders,\n",
    "    MAX(prods_count) AS max_prods_count\n",
    "FROM orders_with_multiple_prods m;"
   ]
  },
  {
   "cell_type": "markdown",
   "id": "sufficient-blanket",
   "metadata": {},
   "source": [
    "A little more than 3% of orders have multiple products and the highest amount of products is 8.\n",
    "<br><br>\n",
    "The only information about reviews we have is located in the order_reviews table, where each review is referring to a specific order, not to a product.\n",
    "<br><br>\n",
    "Therefore, to find the category with the worst/best ratings, we would have to look at products in each order. <br>\n",
    "Orders with multiple products complicate the analysis because we can't easily find, for a given order review, which product contributed to it and with which weight.\n",
    "<br><br>\n",
    "Since we found out that just about 3% of orders have multiple products, we are going to exclude them from the order reviews analysis."
   ]
  },
  {
   "cell_type": "code",
   "execution_count": 9,
   "id": "coral-representation",
   "metadata": {},
   "outputs": [
    {
     "name": "stdout",
     "output_type": "stream",
     "text": [
      " * sqlite:///olist.db\n",
      "Done.\n"
     ]
    },
    {
     "data": {
      "text/html": [
       "<table>\n",
       "    <tr>\n",
       "        <th>review_score</th>\n",
       "        <th>percentage</th>\n",
       "    </tr>\n",
       "    <tr>\n",
       "        <td>1</td>\n",
       "        <td>11.513</td>\n",
       "    </tr>\n",
       "    <tr>\n",
       "        <td>2</td>\n",
       "        <td>3.176</td>\n",
       "    </tr>\n",
       "    <tr>\n",
       "        <td>3</td>\n",
       "        <td>8.243</td>\n",
       "    </tr>\n",
       "    <tr>\n",
       "        <td>4</td>\n",
       "        <td>19.292</td>\n",
       "    </tr>\n",
       "    <tr>\n",
       "        <td>5</td>\n",
       "        <td>57.776</td>\n",
       "    </tr>\n",
       "</table>"
      ],
      "text/plain": [
       "[(1, 11.513), (2, 3.176), (3, 8.243), (4, 19.292), (5, 57.776)]"
      ]
     },
     "execution_count": 9,
     "metadata": {},
     "output_type": "execute_result"
    }
   ],
   "source": [
    "%%sql\n",
    "SELECT review_score, \n",
    "       ROUND( CAST(COUNT(*) AS FLOAT)/(SELECT COUNT(*) FROM reviews)*100, 3) AS percentage\n",
    "FROM reviews\n",
    "GROUP BY review_score;"
   ]
  },
  {
   "cell_type": "code",
   "execution_count": 10,
   "id": "adapted-electron",
   "metadata": {},
   "outputs": [
    {
     "name": "stdout",
     "output_type": "stream",
     "text": [
      " * sqlite:///olist.db\n",
      "Done.\n"
     ]
    },
    {
     "data": {
      "text/html": [
       "<table>\n",
       "    <tr>\n",
       "        <th>COUNT(*)</th>\n",
       "    </tr>\n",
       "    <tr>\n",
       "        <td>99224</td>\n",
       "    </tr>\n",
       "</table>"
      ],
      "text/plain": [
       "[(99224,)]"
      ]
     },
     "execution_count": 10,
     "metadata": {},
     "output_type": "execute_result"
    }
   ],
   "source": [
    "%%sql\n",
    "SELECT COUNT(*) FROM reviews;"
   ]
  },
  {
   "cell_type": "code",
   "execution_count": null,
   "id": "exceptional-scanner",
   "metadata": {},
   "outputs": [],
   "source": []
  }
 ],
 "metadata": {
  "kernelspec": {
   "display_name": "Python 3",
   "language": "python",
   "name": "python3"
  },
  "language_info": {
   "codemirror_mode": {
    "name": "ipython",
    "version": 3
   },
   "file_extension": ".py",
   "mimetype": "text/x-python",
   "name": "python",
   "nbconvert_exporter": "python",
   "pygments_lexer": "ipython3",
   "version": "3.8.3"
  }
 },
 "nbformat": 4,
 "nbformat_minor": 5
}
