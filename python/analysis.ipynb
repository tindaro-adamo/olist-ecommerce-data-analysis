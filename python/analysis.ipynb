{
 "cells": [
  {
   "cell_type": "markdown",
   "id": "portable-petersburg",
   "metadata": {},
   "source": [
    "<img src = \"https://i.imgur.com/HRhd2Y0.png\">"
   ]
  },
  {
   "cell_type": "code",
   "execution_count": 1,
   "id": "intensive-newspaper",
   "metadata": {},
   "outputs": [],
   "source": [
    "import pandas as pd\n",
    "import sqlite3"
   ]
  },
  {
   "cell_type": "code",
   "execution_count": 2,
   "id": "endangered-assist",
   "metadata": {},
   "outputs": [],
   "source": [
    "orders_df = pd.read_csv('../data/raw/olist_orders_dataset.csv')\n",
    "orders_items_df = pd.read_csv('../data/raw/olist_order_items_dataset.csv')\n",
    "products_df = pd.read_csv('../data/raw/olist_products_dataset.csv')\n",
    "customers_df = pd.read_csv('../data/raw/olist_customers_dataset.csv')\n",
    "reviews_df = pd.read_csv('../data/raw/olist_order_reviews_dataset.csv')"
   ]
  },
  {
   "cell_type": "code",
   "execution_count": 3,
   "id": "indie-layer",
   "metadata": {},
   "outputs": [],
   "source": [
    "# Connect to sqlite db and create tables if they don't exist\n",
    "cnx = sqlite3.connect('olist.db')\n",
    "\n",
    "orders_df.to_sql(name='orders', con=cnx, if_exists='replace')\n",
    "orders_items_df.to_sql(name='orders_items', con=cnx, if_exists='replace')\n",
    "products_df.to_sql(name='products', con=cnx, if_exists='replace')\n",
    "customers_df.to_sql(name='customers', con=cnx, if_exists='replace')\n",
    "reviews_df.to_sql(name='reviews', con=cnx, if_exists='replace')"
   ]
  },
  {
   "cell_type": "code",
   "execution_count": 4,
   "id": "religious-tumor",
   "metadata": {},
   "outputs": [],
   "source": [
    "%%capture\n",
    "%load_ext sql\n",
    "%sql sqlite:///olist.db"
   ]
  },
  {
   "cell_type": "markdown",
   "id": "supposed-competition",
   "metadata": {},
   "source": [
    "## Question 1 : which category has the best and worst ratings?"
   ]
  },
  {
   "cell_type": "markdown",
   "id": "informational-crime",
   "metadata": {},
   "source": [
    "order_items is the table that should give us the connection between an orders and products.\n",
    "<br><br>\n",
    "To understand better the relationship between orders, items, products and category, we will first have to explore some of these fields."
   ]
  },
  {
   "cell_type": "markdown",
   "id": "electrical-edinburgh",
   "metadata": {},
   "source": [
    "### Order items exploration\n",
    "In the description of the dataset on Kaggle we can read the following note:\n",
    ">\"An order might have multiple items.\"\n",
    "\n",
    "<br>\n",
    "Let's validate this assumption by using order_item_id in order_items table."
   ]
  },
  {
   "cell_type": "code",
   "execution_count": 5,
   "id": "destroyed-grace",
   "metadata": {
    "scrolled": true
   },
   "outputs": [
    {
     "name": "stdout",
     "output_type": "stream",
     "text": [
      " * sqlite:///olist.db\n",
      "Done.\n"
     ]
    },
    {
     "data": {
      "text/html": [
       "<table>\n",
       "    <tr>\n",
       "        <th>orders_with_multiple_items_count</th>\n",
       "        <th>percentage_of_orders</th>\n",
       "        <th>max_items_count</th>\n",
       "    </tr>\n",
       "    <tr>\n",
       "        <td>9803</td>\n",
       "        <td>9.858</td>\n",
       "        <td>21</td>\n",
       "    </tr>\n",
       "</table>"
      ],
      "text/plain": [
       "[(9803, 9.858, 21)]"
      ]
     },
     "execution_count": 5,
     "metadata": {},
     "output_type": "execute_result"
    }
   ],
   "source": [
    "%%sql\n",
    "WITH orders_with_multiple_items AS ( \n",
    "    SELECT COUNT(DISTINCT order_item_id) AS items_count, order_id\n",
    "    FROM orders_items\n",
    "    GROUP BY order_id\n",
    "    HAVING items_count>1\n",
    "    ORDER BY items_count DESC)\n",
    "SELECT \n",
    "    COUNT(*) AS orders_with_multiple_items_count, \n",
    "    ROUND(\n",
    "        CAST( COUNT(*) AS FLOAT) / ( SELECT COUNT(*) FROM orders) * 100, 3\n",
    "    ) AS percentage_of_orders,\n",
    "    MAX(items_count) AS max_items_count\n",
    "FROM orders_with_multiple_items m\n",
    "LIMIT 5;"
   ]
  },
  {
   "cell_type": "markdown",
   "id": "growing-surface",
   "metadata": {},
   "source": [
    "So it looks like there are multiple orders that have multiple items.\n",
    "In the documentation, order_item_id is described as : \n",
    ">sequential number identifying number of items included in the same order."
   ]
  },
  {
   "cell_type": "markdown",
   "id": "flexible-leone",
   "metadata": {},
   "source": [
    "### Products exploration\n",
    "\n",
    "Our business question is about the **category** that has the best/worst ratings.<br>\n",
    "Looking at the products table, we can see that category is a feature of a product, so we will have to focus on product_id column in order_items table."
   ]
  },
  {
   "cell_type": "code",
   "execution_count": 6,
   "id": "continent-knock",
   "metadata": {},
   "outputs": [
    {
     "name": "stdout",
     "output_type": "stream",
     "text": [
      " * sqlite:///olist.db\n",
      "Done.\n"
     ]
    },
    {
     "data": {
      "text/html": [
       "<table>\n",
       "    <tr>\n",
       "        <th>orders_with_multiple_prods_count</th>\n",
       "        <th>percentage_of_orders</th>\n",
       "        <th>max_prods_count</th>\n",
       "    </tr>\n",
       "    <tr>\n",
       "        <td>3236</td>\n",
       "        <td>3.254</td>\n",
       "        <td>8</td>\n",
       "    </tr>\n",
       "</table>"
      ],
      "text/plain": [
       "[(3236, 3.254, 8)]"
      ]
     },
     "execution_count": 6,
     "metadata": {},
     "output_type": "execute_result"
    }
   ],
   "source": [
    "%%sql\n",
    "WITH orders_with_multiple_prods AS ( \n",
    "    SELECT COUNT(DISTINCT product_id) AS prods_count, order_id\n",
    "    FROM orders_items\n",
    "    GROUP BY order_id\n",
    "    HAVING prods_count>1\n",
    "    ORDER BY prods_count DESC)\n",
    "SELECT \n",
    "    COUNT(*) AS orders_with_multiple_prods_count,\n",
    "    ROUND(\n",
    "       CAST( COUNT(*) AS FLOAT) / ( SELECT COUNT(*) FROM orders) * 100, 3\n",
    "    ) AS percentage_of_orders,\n",
    "    MAX(prods_count) AS max_prods_count\n",
    "FROM orders_with_multiple_prods m;"
   ]
  },
  {
   "cell_type": "markdown",
   "id": "sufficient-blanket",
   "metadata": {},
   "source": [
    "A little more than 3% of orders have multiple products and the highest amount of products is 8.\n",
    "<br><br>\n",
    "The only information about reviews we have is located in the order_reviews table, where each review is referring to a specific order, not to a product.\n",
    "<br><br>\n",
    "Therefore, to find the category with the worst/best ratings, we would have to look at products in each order. <br>\n",
    "Orders with multiple products complicate the analysis because we can't easily find, for a given order review, which product contributed to it and with which weight.\n",
    "<br><br>\n",
    "Since we found out that just about 3% of orders have multiple products, we are going to exclude them from the order reviews analysis."
   ]
  },
  {
   "cell_type": "markdown",
   "id": "standing-sunglasses",
   "metadata": {},
   "source": [
    "### Reviews exploration"
   ]
  },
  {
   "cell_type": "code",
   "execution_count": 30,
   "id": "nonprofit-sustainability",
   "metadata": {
    "scrolled": false
   },
   "outputs": [
    {
     "name": "stdout",
     "output_type": "stream",
     "text": [
      " * sqlite:///olist.db\n",
      "Done.\n"
     ]
    },
    {
     "data": {
      "text/html": [
       "<table>\n",
       "    <tr>\n",
       "        <th>unique_review_id</th>\n",
       "        <th>unique_order_id</th>\n",
       "    </tr>\n",
       "    <tr>\n",
       "        <td>98410</td>\n",
       "        <td>98673</td>\n",
       "    </tr>\n",
       "</table>"
      ],
      "text/plain": [
       "[(98410, 98673)]"
      ]
     },
     "execution_count": 30,
     "metadata": {},
     "output_type": "execute_result"
    }
   ],
   "source": [
    "%%sql\n",
    "SELECT COUNT(DISTINCT review_id) AS unique_review_id,\n",
    "    COUNT(DISTINCT order_id) AS unique_order_id\n",
    "FROM reviews;"
   ]
  },
  {
   "cell_type": "markdown",
   "id": "premium-gibraltar",
   "metadata": {},
   "source": [
    "The number of unique review_id and order_id don't match. \n",
    "We are going to "
   ]
  },
  {
   "cell_type": "markdown",
   "id": "centered-marble",
   "metadata": {},
   "source": [
    "### Duplicate order_id exploration "
   ]
  },
  {
   "cell_type": "code",
   "execution_count": 51,
   "id": "adapted-electron",
   "metadata": {},
   "outputs": [
    {
     "name": "stdout",
     "output_type": "stream",
     "text": [
      " * sqlite:///olist.db\n",
      "Done.\n"
     ]
    },
    {
     "data": {
      "text/html": [
       "<table>\n",
       "    <tr>\n",
       "        <th>order_id</th>\n",
       "        <th>COUNT(order_id)</th>\n",
       "    </tr>\n",
       "    <tr>\n",
       "        <td>df56136b8031ecd28e200bb18e6ddb2e</td>\n",
       "        <td>3</td>\n",
       "    </tr>\n",
       "    <tr>\n",
       "        <td>c88b1d1b157a9999ce368f218a407141</td>\n",
       "        <td>3</td>\n",
       "    </tr>\n",
       "    <tr>\n",
       "        <td>8e17072ec97ce29f0e1f111e598b0c85</td>\n",
       "        <td>3</td>\n",
       "    </tr>\n",
       "</table>"
      ],
      "text/plain": [
       "[('df56136b8031ecd28e200bb18e6ddb2e', 3),\n",
       " ('c88b1d1b157a9999ce368f218a407141', 3),\n",
       " ('8e17072ec97ce29f0e1f111e598b0c85', 3)]"
      ]
     },
     "execution_count": 51,
     "metadata": {},
     "output_type": "execute_result"
    }
   ],
   "source": [
    "%%sql\n",
    "SELECT order_id, COUNT(order_id) \n",
    "FROM reviews\n",
    "GROUP BY order_id\n",
    "HAVING COUNT(order_id) > 1\n",
    "ORDER BY COUNT(order_id) DESC\n",
    "LIMIT 3;"
   ]
  },
  {
   "cell_type": "markdown",
   "id": "mental-reproduction",
   "metadata": {},
   "source": [
    "It looks like there are multiple reviews for the same order.\n",
    "Let's look at one example with 3 reviews."
   ]
  },
  {
   "cell_type": "code",
   "execution_count": 52,
   "id": "exceptional-scanner",
   "metadata": {},
   "outputs": [
    {
     "name": "stdout",
     "output_type": "stream",
     "text": [
      " * sqlite:///olist.db\n",
      "Done.\n"
     ]
    },
    {
     "data": {
      "text/html": [
       "<table>\n",
       "    <tr>\n",
       "        <th>index</th>\n",
       "        <th>review_id</th>\n",
       "        <th>order_id</th>\n",
       "        <th>review_score</th>\n",
       "        <th>review_comment_title</th>\n",
       "        <th>review_comment_message</th>\n",
       "        <th>review_creation_date</th>\n",
       "        <th>review_answer_timestamp</th>\n",
       "    </tr>\n",
       "    <tr>\n",
       "        <td>44694</td>\n",
       "        <td>67c2557eb0bd72e3ece1e03477c9dff5</td>\n",
       "        <td>8e17072ec97ce29f0e1f111e598b0c85</td>\n",
       "        <td>1</td>\n",
       "        <td>None</td>\n",
       "        <td>Entregou o produto errado.</td>\n",
       "        <td>2018-04-07 00:00:00</td>\n",
       "        <td>2018-04-08 22:48:27</td>\n",
       "    </tr>\n",
       "    <tr>\n",
       "        <td>64510</td>\n",
       "        <td>2d6ac45f859465b5c185274a1c929637</td>\n",
       "        <td>8e17072ec97ce29f0e1f111e598b0c85</td>\n",
       "        <td>1</td>\n",
       "        <td>None</td>\n",
       "        <td>Comprei 3 unidades do produto vieram 2 unidades que não corresponde com o que comprei. Devido a minha opinião é negativa com relação a esse vendedor pois não não cumpriu com o prometido na venda.</td>\n",
       "        <td>2018-04-07 00:00:00</td>\n",
       "        <td>2018-04-07 21:13:05</td>\n",
       "    </tr>\n",
       "    <tr>\n",
       "        <td>92300</td>\n",
       "        <td>6e4c4086d9611ae4cc0cc65a262751fe</td>\n",
       "        <td>8e17072ec97ce29f0e1f111e598b0c85</td>\n",
       "        <td>1</td>\n",
       "        <td>None</td>\n",
       "        <td>Embora tenha entregue dentro do prazo, não enviou o produto que comprei.</td>\n",
       "        <td>2018-04-14 00:00:00</td>\n",
       "        <td>2018-04-16 11:37:31</td>\n",
       "    </tr>\n",
       "</table>"
      ],
      "text/plain": [
       "[(44694, '67c2557eb0bd72e3ece1e03477c9dff5', '8e17072ec97ce29f0e1f111e598b0c85', 1, None, 'Entregou o produto errado.', '2018-04-07 00:00:00', '2018-04-08 22:48:27'),\n",
       " (64510, '2d6ac45f859465b5c185274a1c929637', '8e17072ec97ce29f0e1f111e598b0c85', 1, None, 'Comprei 3 unidades do produto vieram 2 unidades que não corresponde com o que comprei. Devido a minha opinião é negativa com relação a esse vendedor pois não não cumpriu com o prometido na venda.', '2018-04-07 00:00:00', '2018-04-07 21:13:05'),\n",
       " (92300, '6e4c4086d9611ae4cc0cc65a262751fe', '8e17072ec97ce29f0e1f111e598b0c85', 1, None, 'Embora tenha entregue dentro do prazo, não enviou o produto que comprei.', '2018-04-14 00:00:00', '2018-04-16 11:37:31')]"
      ]
     },
     "execution_count": 52,
     "metadata": {},
     "output_type": "execute_result"
    }
   ],
   "source": [
    "%%sql\n",
    "SELECT * FROM reviews WHERE order_id=\"8e17072ec97ce29f0e1f111e598b0c85\""
   ]
  },
  {
   "cell_type": "markdown",
   "id": "responsible-minutes",
   "metadata": {},
   "source": [
    "These reviews have a different comment and review_answer_timestamp, <br> <br>\n",
    "\n",
    "review_answer_timestamp : \n",
    ">Shows satisfaction survey answer timestamp.\n",
    "\n",
    "<br>\n",
    "\n",
    "There are also two reviews with the same review_creation_date.\n",
    "\n",
    "review_creation_date :\n",
    ">Shows the date in which the satisfaction survey was sent to the customer.\n",
    "\n",
    "These two reviews' answers were submitted at a different time ( even different day ), so it looks like, unless we have data quality issues, that the user was able to submit answers twice for the same survey.\n",
    "<br><br>\n",
    "\n",
    "But how often does it happen that an order has more than one review and review_answer_timestamp is different? "
   ]
  },
  {
   "cell_type": "code",
   "execution_count": 62,
   "id": "radical-highland",
   "metadata": {
    "scrolled": false
   },
   "outputs": [
    {
     "name": "stdout",
     "output_type": "stream",
     "text": [
      " * sqlite:///olist.db\n",
      "Done.\n"
     ]
    },
    {
     "data": {
      "text/html": [
       "<table>\n",
       "    <tr>\n",
       "        <th>orders_with_multiple_reviews_answers</th>\n",
       "        <th>percentage_of_reviewed_orders</th>\n",
       "    </tr>\n",
       "    <tr>\n",
       "        <td>547</td>\n",
       "        <td>0.554</td>\n",
       "    </tr>\n",
       "</table>"
      ],
      "text/plain": [
       "[(547, 0.554)]"
      ]
     },
     "execution_count": 62,
     "metadata": {},
     "output_type": "execute_result"
    }
   ],
   "source": [
    "%%sql\n",
    "WITH multiple_reviews_orders AS (\n",
    "    SELECT order_id, COUNT(order_id) \n",
    "    FROM reviews\n",
    "    GROUP BY order_id\n",
    "    HAVING COUNT(order_id) > 1 AND COUNT(DISTINCT review_answer_timestamp)>1\n",
    "    ORDER BY COUNT(order_id) DESC\n",
    ")\n",
    "SELECT COUNT(*) AS orders_with_multiple_reviews_answers,\n",
    "       ROUND(\n",
    "        CAST( COUNT(*) AS FLOAT) / ( SELECT COUNT(DISTINCT order_id) FROM reviews) * 100, 3\n",
    "       ) AS percentage_of_reviewed_orders\n",
    "FROM multiple_reviews_orders;"
   ]
  },
  {
   "cell_type": "markdown",
   "id": "false-april",
   "metadata": {},
   "source": [
    "And how often does an order have more than one review and review_creation_date is different?"
   ]
  },
  {
   "cell_type": "code",
   "execution_count": 63,
   "id": "upset-insurance",
   "metadata": {},
   "outputs": [
    {
     "name": "stdout",
     "output_type": "stream",
     "text": [
      " * sqlite:///olist.db\n",
      "Done.\n"
     ]
    },
    {
     "data": {
      "text/html": [
       "<table>\n",
       "    <tr>\n",
       "        <th>orders_with_multiple_reviews_surveys</th>\n",
       "        <th>percentage_of_reviewed_orders</th>\n",
       "    </tr>\n",
       "    <tr>\n",
       "        <td>392</td>\n",
       "        <td>0.397</td>\n",
       "    </tr>\n",
       "</table>"
      ],
      "text/plain": [
       "[(392, 0.397)]"
      ]
     },
     "execution_count": 63,
     "metadata": {},
     "output_type": "execute_result"
    }
   ],
   "source": [
    "%%sql\n",
    "WITH multiple_reviews_orders AS (\n",
    "    SELECT order_id, COUNT(order_id) \n",
    "    FROM reviews\n",
    "    GROUP BY order_id\n",
    "    HAVING COUNT(order_id) > 1 AND COUNT(DISTINCT review_creation_date)>1\n",
    "    ORDER BY COUNT(order_id) DESC\n",
    ")\n",
    "SELECT COUNT(*) AS orders_with_multiple_reviews_surveys,\n",
    "       ROUND(\n",
    "        CAST( COUNT(*) AS FLOAT) / ( SELECT COUNT(DISTINCT order_id) FROM reviews) * 100, 3\n",
    "       ) AS percentage_of_reviewed_orders\n",
    "FROM multiple_reviews_orders;"
   ]
  },
  {
   "cell_type": "markdown",
   "id": "rising-scotland",
   "metadata": {},
   "source": [
    "There are a few of these cases, but the percentage is not that high.\n",
    "<br><br>\n",
    "Looking at the **reviews dataset** documentation on Kaggle, we can read the following : \n",
    ">This dataset includes data about the reviews made by the customers.\n",
    "After a customer purchases the product from Olist Store a seller gets notified to fulfill that order.<br> Once the customer receives the product, or the estimated delivery date is due, the customer gets a satisfaction survey by email where he can give a note for the purchase experience and write down some comments.\n",
    "\n",
    "<br>\n",
    "From this information it's not very clear how it can happen that an user would get more than one survey for the same order. <br>\n",
    "Regarding the user being able to submit more than one answer for the same survey, we can only guess that the software used to collect reviews doesn't prevent multiple submissions."
   ]
  },
  {
   "cell_type": "code",
   "execution_count": 28,
   "id": "atomic-maximum",
   "metadata": {},
   "outputs": [
    {
     "name": "stdout",
     "output_type": "stream",
     "text": [
      " * sqlite:///olist.db\n",
      "Done.\n"
     ]
    },
    {
     "data": {
      "text/html": [
       "<table>\n",
       "    <tr>\n",
       "        <th>Count(review_id) - Count(DISTINCT review_id)</th>\n",
       "    </tr>\n",
       "    <tr>\n",
       "        <td>814</td>\n",
       "    </tr>\n",
       "</table>"
      ],
      "text/plain": [
       "[(814,)]"
      ]
     },
     "execution_count": 28,
     "metadata": {},
     "output_type": "execute_result"
    }
   ],
   "source": [
    "%%sql\n",
    "SELECT Count(review_id) - Count(DISTINCT review_id)\n",
    "FROM   reviews;"
   ]
  },
  {
   "cell_type": "code",
   "execution_count": 22,
   "id": "micro-nancy",
   "metadata": {},
   "outputs": [
    {
     "name": "stdout",
     "output_type": "stream",
     "text": [
      " * sqlite:///olist.db\n",
      "Done.\n"
     ]
    },
    {
     "data": {
      "text/html": [
       "<table>\n",
       "    <tr>\n",
       "        <th>index</th>\n",
       "        <th>review_id</th>\n",
       "        <th>order_id</th>\n",
       "        <th>review_score</th>\n",
       "        <th>review_comment_title</th>\n",
       "        <th>review_comment_message</th>\n",
       "        <th>review_creation_date</th>\n",
       "        <th>review_answer_timestamp</th>\n",
       "    </tr>\n",
       "    <tr>\n",
       "        <td>7629</td>\n",
       "        <td>0501aab2f381486c36bf0f071442c0c2</td>\n",
       "        <td>0068c109948b9a1dfb8530d1978acef3</td>\n",
       "        <td>1</td>\n",
       "        <td>None</td>\n",
       "        <td>Espero obter uma resposta para minha encomenda. Comprei 3 controles remotos para ar condicionado e apenas recebi 1 controle Komeco e dos 2 controles Elgin pedidos e pago só foi entregue 1 controle Elg</td>\n",
       "        <td>2018-02-09 00:00:00</td>\n",
       "        <td>2018-02-10 23:55:18</td>\n",
       "    </tr>\n",
       "    <tr>\n",
       "        <td>66952</td>\n",
       "        <td>0501aab2f381486c36bf0f071442c0c2</td>\n",
       "        <td>d75cb3755738c4ae466303358f97bc55</td>\n",
       "        <td>1</td>\n",
       "        <td>None</td>\n",
       "        <td>Espero obter uma resposta para minha encomenda. Comprei 3 controles remotos para ar condicionado e apenas recebi 1 controle Komeco e dos 2 controles Elgin pedidos e pago só foi entregue 1 controle Elg</td>\n",
       "        <td>2018-02-09 00:00:00</td>\n",
       "        <td>2018-02-10 23:55:18</td>\n",
       "    </tr>\n",
       "</table>"
      ],
      "text/plain": [
       "[(7629, '0501aab2f381486c36bf0f071442c0c2', '0068c109948b9a1dfb8530d1978acef3', 1, None, 'Espero obter uma resposta para minha encomenda. Comprei 3 controles remotos para ar condicionado e apenas recebi 1 controle Komeco e dos 2 controles Elgin pedidos e pago só foi entregue 1 controle Elg', '2018-02-09 00:00:00', '2018-02-10 23:55:18'),\n",
       " (66952, '0501aab2f381486c36bf0f071442c0c2', 'd75cb3755738c4ae466303358f97bc55', 1, None, 'Espero obter uma resposta para minha encomenda. Comprei 3 controles remotos para ar condicionado e apenas recebi 1 controle Komeco e dos 2 controles Elgin pedidos e pago só foi entregue 1 controle Elg', '2018-02-09 00:00:00', '2018-02-10 23:55:18')]"
      ]
     },
     "execution_count": 22,
     "metadata": {},
     "output_type": "execute_result"
    }
   ],
   "source": [
    "%%sql\n",
    "SELECT * FROM reviews WHERE review_id = \"0501aab2f381486c36bf0f071442c0c2\""
   ]
  },
  {
   "cell_type": "code",
   "execution_count": null,
   "id": "necessary-degree",
   "metadata": {},
   "outputs": [],
   "source": []
  }
 ],
 "metadata": {
  "kernelspec": {
   "display_name": "Python 3",
   "language": "python",
   "name": "python3"
  },
  "language_info": {
   "codemirror_mode": {
    "name": "ipython",
    "version": 3
   },
   "file_extension": ".py",
   "mimetype": "text/x-python",
   "name": "python",
   "nbconvert_exporter": "python",
   "pygments_lexer": "ipython3",
   "version": "3.8.3"
  }
 },
 "nbformat": 4,
 "nbformat_minor": 5
}
