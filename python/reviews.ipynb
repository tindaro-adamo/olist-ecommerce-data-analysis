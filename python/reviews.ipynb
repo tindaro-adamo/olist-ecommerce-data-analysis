{
 "cells": [
  {
   "cell_type": "markdown",
   "id": "brilliant-biodiversity",
   "metadata": {},
   "source": [
    "The data is divided in multiple ```csv``` files.<br>\n",
    "The image below represents the relation between each dataset and it was provided on Kaggle.\n",
    "<br><br>"
   ]
  },
  {
   "cell_type": "markdown",
   "id": "portable-petersburg",
   "metadata": {},
   "source": [
    "<img src = \"https://i.imgur.com/HRhd2Y0.png\">"
   ]
  },
  {
   "cell_type": "markdown",
   "id": "japanese-porcelain",
   "metadata": {},
   "source": [
    "<br>\n",
    "\n",
    "## Business question  : Which products categories are the most prone to customer insatisfaction?"
   ]
  },
  {
   "cell_type": "markdown",
   "id": "naked-retailer",
   "metadata": {},
   "source": [
    "```order_items``` is the table that should give us the connection between an orders and products.\n",
    "<br><br>\n",
    "To understand better the relationship between orders, items, products and category, we will first have to explore some of these fields.<br>\n",
    "For this analysis we will consider and read only the datasets that are relevant for our business question.\n",
    "<br><br>\n",
    "We will restrict this analysis to the usage of SQL only, for educational purposes and in order to showcase SQL specific skills.\n",
    "<br><br>\n",
    "Therefore we will create a table for each dataset we need.\n"
   ]
  },
  {
   "cell_type": "code",
   "execution_count": 1,
   "id": "working-output",
   "metadata": {},
   "outputs": [],
   "source": [
    "import pandas as pd\n",
    "import sqlite3"
   ]
  },
  {
   "cell_type": "code",
   "execution_count": 2,
   "id": "endangered-assist",
   "metadata": {},
   "outputs": [],
   "source": [
    "orders_df = pd.read_csv('../data/raw/olist_orders_dataset.csv')\n",
    "orders_items_df = pd.read_csv('../data/raw/olist_order_items_dataset.csv')\n",
    "products_df = pd.read_csv('../data/raw/olist_products_dataset.csv')\n",
    "customers_df = pd.read_csv('../data/raw/olist_customers_dataset.csv')\n",
    "reviews_df = pd.read_csv('../data/raw/olist_order_reviews_dataset.csv')\n",
    "category_translations_df = pd.read_csv('../data/raw/product_category_name_translation.csv')"
   ]
  },
  {
   "cell_type": "code",
   "execution_count": 3,
   "id": "indie-layer",
   "metadata": {},
   "outputs": [],
   "source": [
    "# Connect to sqlite db and create tables if they don't exist\n",
    "cnx = sqlite3.connect('olist.db')\n",
    "\n",
    "orders_df.to_sql(name='orders', con=cnx, if_exists='replace', index=False)\n",
    "orders_items_df.to_sql(name='orders_items', con=cnx, if_exists='replace', index=False)\n",
    "products_df.to_sql(name='products', con=cnx, if_exists='replace', index=False)\n",
    "customers_df.to_sql(name='customers', con=cnx, if_exists='replace', index=False)\n",
    "reviews_df.to_sql(name='order_reviews', con=cnx, if_exists='replace', index=False)\n",
    "category_translations_df.to_sql(name='category_translations', con=cnx, if_exists='replace', index=False)"
   ]
  },
  {
   "cell_type": "code",
   "execution_count": 4,
   "id": "religious-tumor",
   "metadata": {},
   "outputs": [],
   "source": [
    "%%capture\n",
    "%load_ext sql\n",
    "%sql sqlite:///olist.db"
   ]
  },
  {
   "cell_type": "markdown",
   "id": "electrical-edinburgh",
   "metadata": {},
   "source": [
    "<br>\n",
    "\n",
    "## Order items exploration\n",
    "In the description of the dataset on Kaggle we can read the following note:\n",
    ">\"An order might have multiple items.\"\n",
    "<br>\n",
    "\n",
    "Let's validate this assumption by using ```order_item_id``` in order_items table."
   ]
  },
  {
   "cell_type": "code",
   "execution_count": 5,
   "id": "destroyed-grace",
   "metadata": {
    "scrolled": true
   },
   "outputs": [
    {
     "data": {
      "text/html": [
       "<table>\n",
       "    <tr>\n",
       "        <th>orders_with_multiple_items_count</th>\n",
       "        <th>percentage_of_orders</th>\n",
       "        <th>max_items_count</th>\n",
       "    </tr>\n",
       "    <tr>\n",
       "        <td>9803</td>\n",
       "        <td>9.858</td>\n",
       "        <td>21</td>\n",
       "    </tr>\n",
       "</table>"
      ],
      "text/plain": [
       "[(9803, 9.858, 21)]"
      ]
     },
     "execution_count": 5,
     "metadata": {},
     "output_type": "execute_result"
    }
   ],
   "source": [
    "%%sql\n",
    "WITH orders_with_multiple_items AS ( \n",
    "    SELECT COUNT(DISTINCT order_item_id) AS items_count, order_id\n",
    "    FROM orders_items\n",
    "    GROUP BY order_id\n",
    "    HAVING items_count>1\n",
    "    ORDER BY items_count DESC\n",
    ")\n",
    "SELECT \n",
    "    COUNT(*) AS orders_with_multiple_items_count, \n",
    "    ROUND(\n",
    "        CAST( COUNT(*) AS FLOAT) / ( SELECT COUNT(*) FROM orders) * 100, 3\n",
    "    ) AS percentage_of_orders,\n",
    "    MAX(items_count) AS max_items_count\n",
    "FROM orders_with_multiple_items m\n",
    "LIMIT 5;"
   ]
  },
  {
   "cell_type": "markdown",
   "id": "growing-surface",
   "metadata": {},
   "source": [
    "So it looks like there are multiple orders that have multiple items.<br>\n",
    "In the documentation, ```order_item_id``` is described as : \n",
    "\n",
    ">sequential number identifying number of items included in the same order.\n",
    "\n",
    "<br>"
   ]
  },
  {
   "cell_type": "markdown",
   "id": "flexible-leone",
   "metadata": {},
   "source": [
    "\n",
    "## Products exploration\n",
    "\n",
    "Our business question is about the **category** that has the best/worst ratings.<br>\n",
    "Looking at the products table, we can see that category is a feature of a product, so we will have to focus on ```product_id``` column in ```order_items``` table."
   ]
  },
  {
   "cell_type": "code",
   "execution_count": 6,
   "id": "continent-knock",
   "metadata": {},
   "outputs": [
    {
     "data": {
      "text/html": [
       "<table>\n",
       "    <tr>\n",
       "        <th>orders_with_multiple_prods_count</th>\n",
       "        <th>percentage_of_orders</th>\n",
       "        <th>max_prods_count</th>\n",
       "    </tr>\n",
       "    <tr>\n",
       "        <td>3236</td>\n",
       "        <td>3.254</td>\n",
       "        <td>8</td>\n",
       "    </tr>\n",
       "</table>"
      ],
      "text/plain": [
       "[(3236, 3.254, 8)]"
      ]
     },
     "execution_count": 6,
     "metadata": {},
     "output_type": "execute_result"
    }
   ],
   "source": [
    "%%sql\n",
    "WITH orders_with_multiple_prods AS ( \n",
    "    SELECT COUNT(DISTINCT product_id) AS prods_count, order_id\n",
    "    FROM orders_items\n",
    "    GROUP BY order_id\n",
    "    HAVING prods_count>1\n",
    "    ORDER BY prods_count DESC\n",
    ")\n",
    "SELECT \n",
    "    COUNT(*) AS orders_with_multiple_prods_count,\n",
    "    ROUND(\n",
    "       CAST( COUNT(*) AS FLOAT) / ( SELECT COUNT(*) FROM orders) * 100, 3\n",
    "    ) AS percentage_of_orders,\n",
    "    MAX(prods_count) AS max_prods_count\n",
    "FROM orders_with_multiple_prods m;"
   ]
  },
  {
   "cell_type": "markdown",
   "id": "sufficient-blanket",
   "metadata": {},
   "source": [
    "A little more than **3%** of orders have multiple products and the highest amount of products is **8**.\n",
    "<br><br>\n",
    "The only information about reviews we have is located in the ```order_reviews table```, where each review is referring to a specific order, not to a product.\n",
    "<br><br>\n",
    "Therefore, to find the category with the worst/best ratings, we would have to look at products in each order. <br>\n",
    "Orders with multiple products complicate the analysis because we can't easily find, for a given order review, which product contributed to it and with which weight.\n",
    "<br><br>\n",
    "Since we found out that just about **3%** of orders have multiple products, we are going to exclude them from the order reviews analysis.\n",
    "\n",
    "<br>"
   ]
  },
  {
   "cell_type": "markdown",
   "id": "southeast-accessory",
   "metadata": {},
   "source": [
    "## Reviews exploration"
   ]
  },
  {
   "cell_type": "code",
   "execution_count": 7,
   "id": "pharmaceutical-huntington",
   "metadata": {
    "scrolled": false
   },
   "outputs": [
    {
     "data": {
      "text/html": [
       "<table>\n",
       "    <tr>\n",
       "        <th>unique_review_id</th>\n",
       "        <th>unique_order_id</th>\n",
       "    </tr>\n",
       "    <tr>\n",
       "        <td>98410</td>\n",
       "        <td>98673</td>\n",
       "    </tr>\n",
       "</table>"
      ],
      "text/plain": [
       "[(98410, 98673)]"
      ]
     },
     "execution_count": 7,
     "metadata": {},
     "output_type": "execute_result"
    }
   ],
   "source": [
    "%%sql\n",
    "SELECT COUNT(DISTINCT review_id) AS unique_review_id,\n",
    "    COUNT(DISTINCT order_id) AS unique_order_id\n",
    "FROM order_reviews;"
   ]
  },
  {
   "cell_type": "markdown",
   "id": "promotional-military",
   "metadata": {},
   "source": [
    "The number of unique ```review_id``` and ```order_id``` don't match.<br>\n",
    "We are going to look for duplicate ```order_id``` or ```review_id```.\n",
    "<br><br>"
   ]
  },
  {
   "cell_type": "markdown",
   "id": "fatal-legislature",
   "metadata": {},
   "source": [
    "## Duplicate review_id exploration "
   ]
  },
  {
   "cell_type": "code",
   "execution_count": 8,
   "id": "adapted-electron",
   "metadata": {},
   "outputs": [
    {
     "data": {
      "text/html": [
       "<table>\n",
       "    <tr>\n",
       "        <th>order_id</th>\n",
       "        <th>review_id_count</th>\n",
       "    </tr>\n",
       "    <tr>\n",
       "        <td>df56136b8031ecd28e200bb18e6ddb2e</td>\n",
       "        <td>3</td>\n",
       "    </tr>\n",
       "    <tr>\n",
       "        <td>c88b1d1b157a9999ce368f218a407141</td>\n",
       "        <td>3</td>\n",
       "    </tr>\n",
       "    <tr>\n",
       "        <td>8e17072ec97ce29f0e1f111e598b0c85</td>\n",
       "        <td>3</td>\n",
       "    </tr>\n",
       "</table>"
      ],
      "text/plain": [
       "[('df56136b8031ecd28e200bb18e6ddb2e', 3),\n",
       " ('c88b1d1b157a9999ce368f218a407141', 3),\n",
       " ('8e17072ec97ce29f0e1f111e598b0c85', 3)]"
      ]
     },
     "execution_count": 8,
     "metadata": {},
     "output_type": "execute_result"
    }
   ],
   "source": [
    "%%sql\n",
    "SELECT order_id, COUNT( DISTINCT review_id) AS review_id_count\n",
    "FROM order_reviews\n",
    "GROUP BY order_id\n",
    "HAVING COUNT(review_id) > 1\n",
    "ORDER BY COUNT(review_id) DESC\n",
    "LIMIT 3;"
   ]
  },
  {
   "cell_type": "markdown",
   "id": "abstract-energy",
   "metadata": {},
   "source": [
    "It looks like there are multiple reviews for the same order.\n",
    "Let's look at one example with 3 reviews."
   ]
  },
  {
   "cell_type": "code",
   "execution_count": 9,
   "id": "exceptional-scanner",
   "metadata": {},
   "outputs": [
    {
     "data": {
      "text/html": [
       "<table>\n",
       "    <tr>\n",
       "        <th>review_id</th>\n",
       "        <th>order_id</th>\n",
       "        <th>review_score</th>\n",
       "        <th>review_comment_title</th>\n",
       "        <th>review_comment_message</th>\n",
       "        <th>review_creation_date</th>\n",
       "        <th>review_answer_timestamp</th>\n",
       "    </tr>\n",
       "    <tr>\n",
       "        <td>67c2557eb0bd72e3ece1e03477c9dff5</td>\n",
       "        <td>8e17072ec97ce29f0e1f111e598b0c85</td>\n",
       "        <td>1</td>\n",
       "        <td>None</td>\n",
       "        <td>Entregou o produto errado.</td>\n",
       "        <td>2018-04-07 00:00:00</td>\n",
       "        <td>2018-04-08 22:48:27</td>\n",
       "    </tr>\n",
       "    <tr>\n",
       "        <td>2d6ac45f859465b5c185274a1c929637</td>\n",
       "        <td>8e17072ec97ce29f0e1f111e598b0c85</td>\n",
       "        <td>1</td>\n",
       "        <td>None</td>\n",
       "        <td>Comprei 3 unidades do produto vieram 2 unidades que não corresponde com o que comprei. Devido a minha opinião é negativa com relação a esse vendedor pois não não cumpriu com o prometido na venda.</td>\n",
       "        <td>2018-04-07 00:00:00</td>\n",
       "        <td>2018-04-07 21:13:05</td>\n",
       "    </tr>\n",
       "    <tr>\n",
       "        <td>6e4c4086d9611ae4cc0cc65a262751fe</td>\n",
       "        <td>8e17072ec97ce29f0e1f111e598b0c85</td>\n",
       "        <td>1</td>\n",
       "        <td>None</td>\n",
       "        <td>Embora tenha entregue dentro do prazo, não enviou o produto que comprei.</td>\n",
       "        <td>2018-04-14 00:00:00</td>\n",
       "        <td>2018-04-16 11:37:31</td>\n",
       "    </tr>\n",
       "</table>"
      ],
      "text/plain": [
       "[('67c2557eb0bd72e3ece1e03477c9dff5', '8e17072ec97ce29f0e1f111e598b0c85', 1, None, 'Entregou o produto errado.', '2018-04-07 00:00:00', '2018-04-08 22:48:27'),\n",
       " ('2d6ac45f859465b5c185274a1c929637', '8e17072ec97ce29f0e1f111e598b0c85', 1, None, 'Comprei 3 unidades do produto vieram 2 unidades que não corresponde com o que comprei. Devido a minha opinião é negativa com relação a esse vendedor pois não não cumpriu com o prometido na venda.', '2018-04-07 00:00:00', '2018-04-07 21:13:05'),\n",
       " ('6e4c4086d9611ae4cc0cc65a262751fe', '8e17072ec97ce29f0e1f111e598b0c85', 1, None, 'Embora tenha entregue dentro do prazo, não enviou o produto que comprei.', '2018-04-14 00:00:00', '2018-04-16 11:37:31')]"
      ]
     },
     "execution_count": 9,
     "metadata": {},
     "output_type": "execute_result"
    }
   ],
   "source": [
    "%%sql\n",
    "SELECT * FROM reviews WHERE order_id=\"8e17072ec97ce29f0e1f111e598b0c85\""
   ]
  },
  {
   "cell_type": "markdown",
   "id": "professional-sessions",
   "metadata": {},
   "source": [
    "These reviews have a different ```comment``` and ```review_answer_timestamp```. <br><br>\n",
    "\n",
    "```review_answer_timestamp``` : \n",
    ">Shows satisfaction survey answer timestamp.\n",
    "\n",
    "<br>\n",
    "\n",
    "There are also two reviews with the same ```review_creation_date```.<br>\n",
    "\n",
    "```review_creation_date``` :\n",
    ">Shows the date in which the satisfaction survey was sent to the customer.\n",
    "\n",
    "<br>\n",
    "These two reviews' answers were submitted at a different time ( even different day ), so it looks like, unless we have data quality issues, that the user was able to submit answers twice for the same survey.\n",
    "<br><br>\n",
    "\n",
    "But how often does it happen that an order has more than one review and ```review_answer_timestamp``` is different? "
   ]
  },
  {
   "cell_type": "code",
   "execution_count": 10,
   "id": "unlikely-pacific",
   "metadata": {
    "scrolled": false
   },
   "outputs": [
    {
     "data": {
      "text/html": [
       "<table>\n",
       "    <tr>\n",
       "        <th>orders_with_multiple_reviews_answers</th>\n",
       "        <th>percentage_of_reviewed_orders</th>\n",
       "    </tr>\n",
       "    <tr>\n",
       "        <td>547</td>\n",
       "        <td>0.554</td>\n",
       "    </tr>\n",
       "</table>"
      ],
      "text/plain": [
       "[(547, 0.554)]"
      ]
     },
     "execution_count": 10,
     "metadata": {},
     "output_type": "execute_result"
    }
   ],
   "source": [
    "%%sql\n",
    "WITH multiple_reviews_orders AS (\n",
    "    SELECT order_id, COUNT(review_id) \n",
    "    FROM order_reviews\n",
    "    GROUP BY order_id\n",
    "    HAVING COUNT(review_id) > 1 AND COUNT(DISTINCT review_answer_timestamp)>1\n",
    "    ORDER BY COUNT(DISTINCT review_id) DESC\n",
    ")\n",
    "SELECT COUNT(*) AS orders_with_multiple_reviews_answers,\n",
    "       ROUND(\n",
    "        CAST( COUNT(*) AS FLOAT) / ( SELECT COUNT(DISTINCT order_id) FROM reviews) * 100, 3\n",
    "       ) AS percentage_of_reviewed_orders\n",
    "FROM multiple_reviews_orders;"
   ]
  },
  {
   "cell_type": "markdown",
   "id": "growing-defeat",
   "metadata": {},
   "source": [
    "And how often does an order have more than one review and review_creation_date is different?"
   ]
  },
  {
   "cell_type": "code",
   "execution_count": 11,
   "id": "above-afghanistan",
   "metadata": {},
   "outputs": [
    {
     "data": {
      "text/html": [
       "<table>\n",
       "    <tr>\n",
       "        <th>orders_with_multiple_reviews_surveys</th>\n",
       "        <th>percentage_of_reviewed_orders</th>\n",
       "    </tr>\n",
       "    <tr>\n",
       "        <td>392</td>\n",
       "        <td>0.397</td>\n",
       "    </tr>\n",
       "</table>"
      ],
      "text/plain": [
       "[(392, 0.397)]"
      ]
     },
     "execution_count": 11,
     "metadata": {},
     "output_type": "execute_result"
    }
   ],
   "source": [
    "%%sql\n",
    "WITH multiple_reviews_orders AS (\n",
    "    SELECT order_id, COUNT(review_id) \n",
    "    FROM order_reviews\n",
    "    GROUP BY order_id\n",
    "    HAVING COUNT(review_id) > 1 AND COUNT(DISTINCT review_creation_date)>1\n",
    "    ORDER BY COUNT(order_id) DESC\n",
    ")\n",
    "SELECT COUNT(*) AS orders_with_multiple_reviews_surveys,\n",
    "       ROUND(\n",
    "        CAST( COUNT(*) AS FLOAT) / ( SELECT COUNT(DISTINCT order_id) FROM reviews) * 100, 3\n",
    "       ) AS percentage_of_reviewed_orders\n",
    "FROM multiple_reviews_orders;"
   ]
  },
  {
   "cell_type": "markdown",
   "id": "opening-margin",
   "metadata": {},
   "source": [
    "There are a few of these cases, but the percentage is not that high.\n",
    "<br><br>\n",
    "Looking at the **reviews dataset** documentation on Kaggle, we can read the following : \n",
    ">This dataset includes data about the reviews made by the customers.\n",
    "After a customer purchases the product from Olist Store a seller gets notified to fulfill that order.<br> Once the customer receives the product, or the estimated delivery date is due, the customer gets a satisfaction survey by email where he can give a note for the purchase experience and write down some comments.\n",
    "\n",
    "<br>\n",
    "From this information it's not very clear how it can happen that an user would get more than one survey for the same order. <br>\n",
    "Regarding the user being able to submit more than one answer for the same survey, we can only guess that the software used to collect reviews doesn't prevent multiple submissions.\n",
    "<br><br>"
   ]
  },
  {
   "cell_type": "markdown",
   "id": "southeast-lawrence",
   "metadata": {},
   "source": [
    "## Duplicate order_id exploration "
   ]
  },
  {
   "cell_type": "code",
   "execution_count": 12,
   "id": "rubber-colorado",
   "metadata": {
    "scrolled": true
   },
   "outputs": [
    {
     "data": {
      "text/html": [
       "<table>\n",
       "    <tr>\n",
       "        <th>COUNT(order_id) - COUNT(DISTINCT order_id)</th>\n",
       "    </tr>\n",
       "    <tr>\n",
       "        <td>551</td>\n",
       "    </tr>\n",
       "</table>"
      ],
      "text/plain": [
       "[(551,)]"
      ]
     },
     "execution_count": 12,
     "metadata": {},
     "output_type": "execute_result"
    }
   ],
   "source": [
    "%%sql\n",
    "SELECT COUNT(order_id) - COUNT(DISTINCT order_id) \n",
    "FROM order_reviews;"
   ]
  },
  {
   "cell_type": "markdown",
   "id": "respected-ordinary",
   "metadata": {},
   "source": [
    "There are some rows with duplicated ```order_id```.<br>\n",
    "So probably some reviews are linked to different orders. <br><br>\n",
    "Let's see how many :"
   ]
  },
  {
   "cell_type": "code",
   "execution_count": 13,
   "id": "acquired-guest",
   "metadata": {},
   "outputs": [
    {
     "data": {
      "text/html": [
       "<table>\n",
       "    <tr>\n",
       "        <th>reviews_for_multiple_orders_count</th>\n",
       "        <th>percentage_of_reviews_for_multiple_orders</th>\n",
       "    </tr>\n",
       "    <tr>\n",
       "        <td>789</td>\n",
       "        <td>0.802</td>\n",
       "    </tr>\n",
       "</table>"
      ],
      "text/plain": [
       "[(789, 0.802)]"
      ]
     },
     "execution_count": 13,
     "metadata": {},
     "output_type": "execute_result"
    }
   ],
   "source": [
    "%%sql\n",
    "WITH review_for_multiple_orders AS (\n",
    "    SELECT review_id, COUNT(DISTINCT order_id) \n",
    "    FROM reviews\n",
    "    GROUP BY review_id\n",
    "    HAVING COUNT(DISTINCT order_id) > 1\n",
    "    ORDER BY COUNT(DISTINCT order_id) DESC\n",
    ")\n",
    "SELECT COUNT(*) AS reviews_for_multiple_orders_count,\n",
    "       ROUND(\n",
    "        CAST( COUNT(*) AS FLOAT) / ( SELECT COUNT(DISTINCT review_id) FROM reviews) * 100, 3\n",
    "       ) AS percentage_of_reviews_for_multiple_orders\n",
    "FROM review_for_multiple_orders;"
   ]
  },
  {
   "cell_type": "markdown",
   "id": "miniature-panama",
   "metadata": {},
   "source": [
    "According to the dataset documentation, the customer receives a survey after each order is finalised, therefore this is not expected.<br><br>\n",
    "Let's look closely at the review that is linked to the most amount of orders.<br>\n",
    "We will select a review that has a comment message."
   ]
  },
  {
   "cell_type": "code",
   "execution_count": 14,
   "id": "surprised-filename",
   "metadata": {},
   "outputs": [
    {
     "data": {
      "text/html": [
       "<table>\n",
       "    <tr>\n",
       "        <th>review_id</th>\n",
       "        <th>order_id_count</th>\n",
       "    </tr>\n",
       "    <tr>\n",
       "        <td>dbdf1ea31790c8ecfcc6750525661a9b</td>\n",
       "        <td>3</td>\n",
       "    </tr>\n",
       "</table>"
      ],
      "text/plain": [
       "[('dbdf1ea31790c8ecfcc6750525661a9b', 3)]"
      ]
     },
     "execution_count": 14,
     "metadata": {},
     "output_type": "execute_result"
    }
   ],
   "source": [
    "%%sql\n",
    "SELECT review_id, COUNT(DISTINCT order_id) AS order_id_count\n",
    "FROM order_reviews\n",
    "GROUP BY review_id\n",
    "HAVING COUNT(order_id) > 1 AND review_comment_message IS NOT NULL\n",
    "ORDER BY COUNT(order_id) DESC\n",
    "LIMIT 1;"
   ]
  },
  {
   "cell_type": "code",
   "execution_count": 15,
   "id": "conservative-borough",
   "metadata": {
    "scrolled": true
   },
   "outputs": [
    {
     "data": {
      "text/html": [
       "<table>\n",
       "    <tr>\n",
       "        <th>review_id</th>\n",
       "        <th>order_id</th>\n",
       "        <th>review_score</th>\n",
       "        <th>review_comment_title</th>\n",
       "        <th>review_comment_message</th>\n",
       "        <th>review_creation_date</th>\n",
       "        <th>review_answer_timestamp</th>\n",
       "    </tr>\n",
       "    <tr>\n",
       "        <td>dbdf1ea31790c8ecfcc6750525661a9b</td>\n",
       "        <td>fa06c9f04ef55a2a43f2246a0777b7c8</td>\n",
       "        <td>1</td>\n",
       "        <td>None</td>\n",
       "        <td>O produto veio embalado apenas por um frágil envelope, o que ocasionou o fato da caixa do cartucho ficar totalmente destruída.</td>\n",
       "        <td>2018-03-20 00:00:00</td>\n",
       "        <td>2018-03-21 01:02:05</td>\n",
       "    </tr>\n",
       "    <tr>\n",
       "        <td>dbdf1ea31790c8ecfcc6750525661a9b</td>\n",
       "        <td>3cf387bb14e9db171ccbb9b87ea607bb</td>\n",
       "        <td>1</td>\n",
       "        <td>None</td>\n",
       "        <td>O produto veio embalado apenas por um frágil envelope, o que ocasionou o fato da caixa do cartucho ficar totalmente destruída.</td>\n",
       "        <td>2018-03-20 00:00:00</td>\n",
       "        <td>2018-03-21 01:02:05</td>\n",
       "    </tr>\n",
       "    <tr>\n",
       "        <td>dbdf1ea31790c8ecfcc6750525661a9b</td>\n",
       "        <td>9406240a4e41945ba492020a2702f757</td>\n",
       "        <td>1</td>\n",
       "        <td>None</td>\n",
       "        <td>O produto veio embalado apenas por um frágil envelope, o que ocasionou o fato da caixa do cartucho ficar totalmente destruída.</td>\n",
       "        <td>2018-03-20 00:00:00</td>\n",
       "        <td>2018-03-21 01:02:05</td>\n",
       "    </tr>\n",
       "</table>"
      ],
      "text/plain": [
       "[('dbdf1ea31790c8ecfcc6750525661a9b', 'fa06c9f04ef55a2a43f2246a0777b7c8', 1, None, 'O produto veio embalado apenas por um frágil envelope, o que ocasionou o fato da caixa do cartucho ficar totalmente destruída.', '2018-03-20 00:00:00', '2018-03-21 01:02:05'),\n",
       " ('dbdf1ea31790c8ecfcc6750525661a9b', '3cf387bb14e9db171ccbb9b87ea607bb', 1, None, 'O produto veio embalado apenas por um frágil envelope, o que ocasionou o fato da caixa do cartucho ficar totalmente destruída.', '2018-03-20 00:00:00', '2018-03-21 01:02:05'),\n",
       " ('dbdf1ea31790c8ecfcc6750525661a9b', '9406240a4e41945ba492020a2702f757', 1, None, 'O produto veio embalado apenas por um frágil envelope, o que ocasionou o fato da caixa do cartucho ficar totalmente destruída.', '2018-03-20 00:00:00', '2018-03-21 01:02:05')]"
      ]
     },
     "execution_count": 15,
     "metadata": {},
     "output_type": "execute_result"
    }
   ],
   "source": [
    "%%sql\n",
    "SELECT * FROM reviews WHERE review_id=\"dbdf1ea31790c8ecfcc6750525661a9b\""
   ]
  },
  {
   "cell_type": "markdown",
   "id": "classified-combine",
   "metadata": {},
   "source": [
    "According to this example reviews for multiple order ids are identical (all other columns have same values).<br>\n",
    "Let's see if this is the case for every review with duplicated ```order_id```.<br>"
   ]
  },
  {
   "cell_type": "code",
   "execution_count": 16,
   "id": "downtown-newfoundland",
   "metadata": {
    "scrolled": true
   },
   "outputs": [
    {
     "data": {
      "text/html": [
       "<table>\n",
       "    <tr>\n",
       "        <th>COUNT(*)</th>\n",
       "    </tr>\n",
       "    <tr>\n",
       "        <td>789</td>\n",
       "    </tr>\n",
       "</table>"
      ],
      "text/plain": [
       "[(789,)]"
      ]
     },
     "execution_count": 16,
     "metadata": {},
     "output_type": "execute_result"
    }
   ],
   "source": [
    "%%sql\n",
    "WITH identical_reviews_diff_orders AS\n",
    "(\n",
    "    SELECT COUNT(*), review_id\n",
    "    FROM order_reviews\n",
    "    GROUP BY review_id, \n",
    "            review_score, \n",
    "            review_comment_title,\n",
    "            review_comment_message, review_creation_date,review_answer_timestamp\n",
    "    HAVING COUNT(DISTINCT order_id)>1\n",
    ")\n",
    "SELECT COUNT(*)\n",
    "FROM identical_reviews_diff_orders;\n"
   ]
  },
  {
   "cell_type": "markdown",
   "id": "frozen-rabbit",
   "metadata": {},
   "source": [
    "The number of reviews linked to multiple orders, where all the other columns are identical, is **789**, which exactly matches the overall number of reviews with multiple orders.\n",
    "<br><br>\n",
    "This seems to be a data quality issue, and it might be confirmed by [this open issue](https://www.kaggle.com/datasets/olistbr/brazilian-ecommerce/discussion/71650?select=olist_order_reviews_dataset.csv&search=review_id) on Kaggle.\n",
    "<br><br>\n",
    "Since the issue is still not resolved, we will simply just ignore those reviews for our case study analysis. <br>\n",
    "In a real world scenario we might have handled the issue in different ways, depending on the root cause. <br><br>"
   ]
  },
  {
   "cell_type": "markdown",
   "id": "demographic-australian",
   "metadata": {},
   "source": [
    "## Product Category exploration "
   ]
  },
  {
   "cell_type": "code",
   "execution_count": 17,
   "id": "polished-frank",
   "metadata": {
    "scrolled": true
   },
   "outputs": [
    {
     "data": {
      "text/html": [
       "<table>\n",
       "    <tr>\n",
       "        <th>prods_without_category</th>\n",
       "        <th>percentage</th>\n",
       "    </tr>\n",
       "    <tr>\n",
       "        <td>610</td>\n",
       "        <td>1.851</td>\n",
       "    </tr>\n",
       "</table>"
      ],
      "text/plain": [
       "[(610, 1.851)]"
      ]
     },
     "execution_count": 17,
     "metadata": {},
     "output_type": "execute_result"
    }
   ],
   "source": [
    "%%sql\n",
    "SELECT COUNT(*) AS prods_without_category,\n",
    "        ROUND(\n",
    "            CAST( COUNT(*) AS FLOAT) / ( SELECT COUNT(DISTINCT product_id) FROM products) * 100, 3\n",
    "        ) AS percentage\n",
    "FROM products \n",
    "WHERE product_category_name IS NULL;"
   ]
  },
  {
   "cell_type": "markdown",
   "id": "indian-integration",
   "metadata": {},
   "source": [
    "We have a small percentage of products that are not assigned to any category.\n",
    "<br><br>"
   ]
  },
  {
   "cell_type": "markdown",
   "id": "nuclear-lyric",
   "metadata": {},
   "source": [
    "## Summary of what we found out :\n",
    "\n",
    "- About **3%** of orders have different kind of products. This is normal and expected, but we will ignore them to simplify the analysis about categories.\n",
    "- An order can have multiple reviews. This wasn't clear after reading the documentation but we can take into account every review for an order.\n",
    "- A review can refer to different orders. This wasn't expected and it's probably related to a data quality issue. We will ignore these reviews.\n",
    "<br><br>"
   ]
  },
  {
   "cell_type": "markdown",
   "id": "traditional-nickel",
   "metadata": {},
   "source": [
    "## Product review score - Bayesian average\n",
    "To rank products depending on ratings, we can't simply rely on the mean of ratings' scores, but we want to take into account also **how many** ratings were submitted for each product.<br>\n",
    "\n",
    "We will use the **Bayesian average** for this purpose : <br><br>\n",
    "\n",
    "\n",
    "```Bayesian Average = ( product_avg_review_score * product_reviews_count + C * m ) / ( product_reviews_count + m )```\n",
    "\n",
    "```C``` = average rating of ALL products <br><br>\n",
    "\n",
    "```m``` = **50** = Arbitrary confidence number <br><br>\n",
    "\n",
    "If a product has more than **50** ratings, then it will use its true rating. <br>\n",
    "If it doesn't have enough ratings, then the missing ones will be counted as the average score of all ratings given to ALL products.<br>\n",
    "For an item that has more than the threshold (```m```) amount of votes, the Bayesian average doesn’t change its rating average by a significant amount."
   ]
  },
  {
   "cell_type": "code",
   "execution_count": 18,
   "id": "adverse-singer",
   "metadata": {},
   "outputs": [
    {
     "data": {
      "text/plain": [
       "[]"
      ]
     },
     "execution_count": 18,
     "metadata": {},
     "output_type": "execute_result"
    }
   ],
   "source": [
    "%%sql\n",
    "DROP VIEW IF EXISTS orders_with_single_prods;\n",
    "CREATE VIEW orders_with_single_prods\n",
    "AS\n",
    "SELECT order_id,product_id\n",
    "    FROM orders_items\n",
    "    GROUP BY order_id\n",
    "    HAVING COUNT(DISTINCT product_id)==1;"
   ]
  },
  {
   "cell_type": "code",
   "execution_count": 19,
   "id": "threaded-chosen",
   "metadata": {},
   "outputs": [
    {
     "data": {
      "text/plain": [
       "[]"
      ]
     },
     "execution_count": 19,
     "metadata": {},
     "output_type": "execute_result"
    }
   ],
   "source": [
    "%%sql\n",
    "DROP VIEW IF EXISTS reviews_for_single_orders;\n",
    "CREATE VIEW reviews_for_single_orders\n",
    "AS\n",
    "SELECT *, \n",
    "        COUNT(DISTINCT order_id), \n",
    "        COUNT(*) OVER() AS all_reviews_count,\n",
    "        AVG(review_score) OVER() AS all_reviews_avg\n",
    "FROM order_reviews\n",
    "GROUP BY review_id\n",
    "HAVING COUNT(DISTINCT order_id)==1"
   ]
  },
  {
   "cell_type": "code",
   "execution_count": 20,
   "id": "clear-canal",
   "metadata": {},
   "outputs": [
    {
     "data": {
      "text/plain": [
       "[]"
      ]
     },
     "execution_count": 20,
     "metadata": {},
     "output_type": "execute_result"
    }
   ],
   "source": [
    "%%sql\n",
    "DROP VIEW IF EXISTS products_reviews;\n",
    "CREATE VIEW products_reviews \n",
    "AS\n",
    "SELECT  p.product_id,\n",
    "        p.product_category_name,\n",
    "        AVG(o_r.review_score) AS avg_review_score,\n",
    "        COUNT(*) AS product_reviews_count,\n",
    "        (AVG(o_r.review_score)*COUNT(*) + o_r.all_reviews_avg*50 )\n",
    "        / ( COUNT(*) + 50 ) AS bayes_avg,\n",
    "        o_r.all_reviews_avg\n",
    "FROM orders_with_single_prods o_i\n",
    "    JOIN products p ON o_i.product_id=p.product_id\n",
    "    JOIN reviews_for_single_orders o_r ON o_r.order_id=o_i.order_id\n",
    "GROUP BY p.product_id;     "
   ]
  },
  {
   "cell_type": "markdown",
   "id": "liked-sydney",
   "metadata": {},
   "source": [
    "### Top 5 products with best reviews"
   ]
  },
  {
   "cell_type": "code",
   "execution_count": 21,
   "id": "economic-joseph",
   "metadata": {},
   "outputs": [
    {
     "data": {
      "text/html": [
       "<table>\n",
       "    <tr>\n",
       "        <th>product_id</th>\n",
       "        <th>product_category_name</th>\n",
       "        <th>avg_review_score</th>\n",
       "        <th>product_reviews_count</th>\n",
       "        <th>bayes_avg</th>\n",
       "        <th>all_reviews_avg</th>\n",
       "    </tr>\n",
       "    <tr>\n",
       "        <td>89b121bee266dcd25688a1ba72eefb61</td>\n",
       "        <td>informatica_acessorios</td>\n",
       "        <td>2.2666666666666666</td>\n",
       "        <td>60</td>\n",
       "        <td>3.0959765549700093</td>\n",
       "        <td>4.0911484209340205</td>\n",
       "    </tr>\n",
       "    <tr>\n",
       "        <td>b1d207586fca400a2370d50a9ba1da98</td>\n",
       "        <td>None</td>\n",
       "        <td>2.0232558139534884</td>\n",
       "        <td>43</td>\n",
       "        <td>3.1350260327602264</td>\n",
       "        <td>4.0911484209340205</td>\n",
       "    </tr>\n",
       "    <tr>\n",
       "        <td>cd46a885543f0e169a49f1eb25c04e43</td>\n",
       "        <td>informatica_acessorios</td>\n",
       "        <td>1.6071428571428572</td>\n",
       "        <td>28</td>\n",
       "        <td>3.1994541159833463</td>\n",
       "        <td>4.0911484209340205</td>\n",
       "    </tr>\n",
       "    <tr>\n",
       "        <td>b5e13c9a353102f79c6206ff5cb61a50</td>\n",
       "        <td>brinquedos</td>\n",
       "        <td>2.9615384615384617</td>\n",
       "        <td>78</td>\n",
       "        <td>3.402792351927352</td>\n",
       "        <td>4.0911484209340205</td>\n",
       "    </tr>\n",
       "    <tr>\n",
       "        <td>25c38557cf793876c5abdd5931f922db</td>\n",
       "        <td>bebes</td>\n",
       "        <td>2.611111111111111</td>\n",
       "        <td>36</td>\n",
       "        <td>3.4715979191476865</td>\n",
       "        <td>4.0911484209340205</td>\n",
       "    </tr>\n",
       "</table>"
      ],
      "text/plain": [
       "[('89b121bee266dcd25688a1ba72eefb61', 'informatica_acessorios', 2.2666666666666666, 60, 3.0959765549700093, 4.0911484209340205),\n",
       " ('b1d207586fca400a2370d50a9ba1da98', None, 2.0232558139534884, 43, 3.1350260327602264, 4.0911484209340205),\n",
       " ('cd46a885543f0e169a49f1eb25c04e43', 'informatica_acessorios', 1.6071428571428572, 28, 3.1994541159833463, 4.0911484209340205),\n",
       " ('b5e13c9a353102f79c6206ff5cb61a50', 'brinquedos', 2.9615384615384617, 78, 3.402792351927352, 4.0911484209340205),\n",
       " ('25c38557cf793876c5abdd5931f922db', 'bebes', 2.611111111111111, 36, 3.4715979191476865, 4.0911484209340205)]"
      ]
     },
     "execution_count": 21,
     "metadata": {},
     "output_type": "execute_result"
    }
   ],
   "source": [
    "%%sql\n",
    "SELECT * \n",
    "FROM products_reviews \n",
    "ORDER BY bayes_avg\n",
    "LIMIT 5;"
   ]
  },
  {
   "cell_type": "markdown",
   "id": "global-paragraph",
   "metadata": {},
   "source": [
    "### Top 5 products with worst reviews"
   ]
  },
  {
   "cell_type": "code",
   "execution_count": 22,
   "id": "academic-documentary",
   "metadata": {},
   "outputs": [
    {
     "data": {
      "text/html": [
       "<table>\n",
       "    <tr>\n",
       "        <th>product_id</th>\n",
       "        <th>product_category_name</th>\n",
       "        <th>avg_review_score</th>\n",
       "        <th>product_reviews_count</th>\n",
       "        <th>bayes_avg</th>\n",
       "        <th>all_reviews_avg</th>\n",
       "    </tr>\n",
       "    <tr>\n",
       "        <td>73326828aa5efe1ba096223de496f596</td>\n",
       "        <td>alimentos</td>\n",
       "        <td>4.846153846153846</td>\n",
       "        <td>52</td>\n",
       "        <td>4.4760531475166765</td>\n",
       "        <td>4.0911484209340205</td>\n",
       "    </tr>\n",
       "    <tr>\n",
       "        <td>6a8631b72a2f8729b91514db87e771c0</td>\n",
       "        <td>eletronicos</td>\n",
       "        <td>4.7368421052631575</td>\n",
       "        <td>57</td>\n",
       "        <td>4.435116084548608</td>\n",
       "        <td>4.0911484209340205</td>\n",
       "    </tr>\n",
       "    <tr>\n",
       "        <td>e0cf79767c5b016251fe139915c59a26</td>\n",
       "        <td>beleza_saude</td>\n",
       "        <td>4.567796610169491</td>\n",
       "        <td>118</td>\n",
       "        <td>4.425937030039887</td>\n",
       "        <td>4.0911484209340205</td>\n",
       "    </tr>\n",
       "    <tr>\n",
       "        <td>363218ba55c610b750224f90bdd34be1</td>\n",
       "        <td>cama_mesa_banho</td>\n",
       "        <td>4.583333333333333</td>\n",
       "        <td>72</td>\n",
       "        <td>4.381618205300828</td>\n",
       "        <td>4.0911484209340205</td>\n",
       "    </tr>\n",
       "    <tr>\n",
       "        <td>3e4176d545618ed02f382a3057de32b4</td>\n",
       "        <td>malas_acessorios</td>\n",
       "        <td>4.958333333333333</td>\n",
       "        <td>24</td>\n",
       "        <td>4.3723975817121765</td>\n",
       "        <td>4.0911484209340205</td>\n",
       "    </tr>\n",
       "</table>"
      ],
      "text/plain": [
       "[('73326828aa5efe1ba096223de496f596', 'alimentos', 4.846153846153846, 52, 4.4760531475166765, 4.0911484209340205),\n",
       " ('6a8631b72a2f8729b91514db87e771c0', 'eletronicos', 4.7368421052631575, 57, 4.435116084548608, 4.0911484209340205),\n",
       " ('e0cf79767c5b016251fe139915c59a26', 'beleza_saude', 4.567796610169491, 118, 4.425937030039887, 4.0911484209340205),\n",
       " ('363218ba55c610b750224f90bdd34be1', 'cama_mesa_banho', 4.583333333333333, 72, 4.381618205300828, 4.0911484209340205),\n",
       " ('3e4176d545618ed02f382a3057de32b4', 'malas_acessorios', 4.958333333333333, 24, 4.3723975817121765, 4.0911484209340205)]"
      ]
     },
     "execution_count": 22,
     "metadata": {},
     "output_type": "execute_result"
    }
   ],
   "source": [
    "%%sql\n",
    "SELECT * \n",
    "FROM products_reviews \n",
    "ORDER BY bayes_avg DESC\n",
    "LIMIT 5;"
   ]
  },
  {
   "cell_type": "markdown",
   "id": "underlying-founder",
   "metadata": {},
   "source": [
    "## Category review score - Bayesian average\n",
    " \n",
    "```Bayes Average = ( category_avg_review_score * category_reviews_count + C * m ) / ( category_reviews_count + m )```\n",
    "<br><br>\n",
    "\n",
    "```category_avg_review_score``` = the average score of all reviews of all products belonging to a given category\n",
    "<br><br>\n",
    "\n",
    "```category_reviews_count``` = the count of all reviews of all products belonging to a given category\n",
    "<br><br>\n",
    "\n",
    "```C``` = average rating of ALL reviews = ```4.0911484209340205``` <br><br>\n",
    "\n",
    "```m``` = **200** -> Arbitrary confidence number <br><br>\n"
   ]
  },
  {
   "cell_type": "code",
   "execution_count": 23,
   "id": "productive-stewart",
   "metadata": {},
   "outputs": [
    {
     "data": {
      "text/plain": [
       "[]"
      ]
     },
     "execution_count": 23,
     "metadata": {},
     "output_type": "execute_result"
    }
   ],
   "source": [
    "%%sql\n",
    "DROP VIEW IF EXISTS category_reviews_scores;\n",
    "CREATE VIEW category_reviews_scores \n",
    "AS\n",
    "SELECT p.product_category_name,\n",
    "       t.product_category_name_english,\n",
    "       COUNT(DISTINCT review_id) AS category_reviews_count,\n",
    "       AVG(o_r.review_score) AS category_reviews_avg, \n",
    "       (AVG(o_r.review_score)*COUNT(DISTINCT review_id) + 4.0911484209340205*200 ) \n",
    "       / ( COUNT(DISTINCT review_id) + 200 ) AS category_bayes_avg\n",
    "FROM orders_with_single_prods o_i\n",
    "     JOIN products p ON o_i.product_id=p.product_id\n",
    "     JOIN reviews_for_single_orders o_r ON o_r.order_id=o_i.order_id\n",
    "     LEFT JOIN category_translations t ON t.product_category_name=p.product_category_name\n",
    "GROUP BY p.product_category_name;\n"
   ]
  },
  {
   "cell_type": "markdown",
   "id": "female-surge",
   "metadata": {},
   "source": [
    "### Top 5 categories with best reviews"
   ]
  },
  {
   "cell_type": "code",
   "execution_count": 24,
   "id": "hourly-paragraph",
   "metadata": {},
   "outputs": [
    {
     "data": {
      "text/html": [
       "<table>\n",
       "    <tr>\n",
       "        <th>product_category_name</th>\n",
       "        <th>product_category_name_english</th>\n",
       "        <th>category_reviews_count</th>\n",
       "        <th>category_reviews_avg</th>\n",
       "        <th>category_bayes_avg</th>\n",
       "    </tr>\n",
       "    <tr>\n",
       "        <td>livros_interesse_geral</td>\n",
       "        <td>books_general_interest</td>\n",
       "        <td>487</td>\n",
       "        <td>4.478439425051334</td>\n",
       "        <td>4.365690952236979</td>\n",
       "    </tr>\n",
       "    <tr>\n",
       "        <td>malas_acessorios</td>\n",
       "        <td>luggage_accessories</td>\n",
       "        <td>997</td>\n",
       "        <td>4.338014042126379</td>\n",
       "        <td>4.296766653455976</td>\n",
       "    </tr>\n",
       "    <tr>\n",
       "        <td>livros_tecnicos</td>\n",
       "        <td>books_technical</td>\n",
       "        <td>248</td>\n",
       "        <td>4.44758064516129</td>\n",
       "        <td>4.2884591164884025</td>\n",
       "    </tr>\n",
       "    <tr>\n",
       "        <td>papelaria</td>\n",
       "        <td>stationery</td>\n",
       "        <td>2183</td>\n",
       "        <td>4.279890059551077</td>\n",
       "        <td>4.264049384887455</td>\n",
       "    </tr>\n",
       "    <tr>\n",
       "        <td>pet_shop</td>\n",
       "        <td>pet_shop</td>\n",
       "        <td>1627</td>\n",
       "        <td>4.284572833435772</td>\n",
       "        <td>4.263398841919433</td>\n",
       "    </tr>\n",
       "</table>"
      ],
      "text/plain": [
       "[('livros_interesse_geral', 'books_general_interest', 487, 4.478439425051334, 4.365690952236979),\n",
       " ('malas_acessorios', 'luggage_accessories', 997, 4.338014042126379, 4.296766653455976),\n",
       " ('livros_tecnicos', 'books_technical', 248, 4.44758064516129, 4.2884591164884025),\n",
       " ('papelaria', 'stationery', 2183, 4.279890059551077, 4.264049384887455),\n",
       " ('pet_shop', 'pet_shop', 1627, 4.284572833435772, 4.263398841919433)]"
      ]
     },
     "execution_count": 24,
     "metadata": {},
     "output_type": "execute_result"
    }
   ],
   "source": [
    "%%sql\n",
    "SELECT * \n",
    "FROM category_reviews_scores \n",
    "ORDER BY category_bayes_avg DESC\n",
    "LIMIT 5;"
   ]
  },
  {
   "cell_type": "markdown",
   "id": "coordinated-clarity",
   "metadata": {},
   "source": [
    "### Top 5 products with worst reviews"
   ]
  },
  {
   "cell_type": "code",
   "execution_count": 25,
   "id": "usual-horizontal",
   "metadata": {},
   "outputs": [
    {
     "data": {
      "text/html": [
       "<table>\n",
       "    <tr>\n",
       "        <th>product_category_name</th>\n",
       "        <th>product_category_name_english</th>\n",
       "        <th>category_reviews_count</th>\n",
       "        <th>category_reviews_avg</th>\n",
       "        <th>category_bayes_avg</th>\n",
       "    </tr>\n",
       "    <tr>\n",
       "        <td>moveis_escritorio</td>\n",
       "        <td>office_furniture</td>\n",
       "        <td>1207</td>\n",
       "        <td>3.663628831814416</td>\n",
       "        <td>3.724399206955795</td>\n",
       "    </tr>\n",
       "    <tr>\n",
       "        <td>audio</td>\n",
       "        <td>audio</td>\n",
       "        <td>341</td>\n",
       "        <td>3.8475073313782993</td>\n",
       "        <td>3.9375779744672905</td>\n",
       "    </tr>\n",
       "    <tr>\n",
       "        <td>None</td>\n",
       "        <td>None</td>\n",
       "        <td>1361</td>\n",
       "        <td>3.9581190301249083</td>\n",
       "        <td>3.975163154507882</td>\n",
       "    </tr>\n",
       "    <tr>\n",
       "        <td>fashion_roupa_masculina</td>\n",
       "        <td>fashion_male_clothing</td>\n",
       "        <td>99</td>\n",
       "        <td>3.7777777777777777</td>\n",
       "        <td>3.987390248116402</td>\n",
       "    </tr>\n",
       "    <tr>\n",
       "        <td>telefonia_fixa</td>\n",
       "        <td>fixed_telephony</td>\n",
       "        <td>212</td>\n",
       "        <td>3.891509433962264</td>\n",
       "        <td>3.9884215635602045</td>\n",
       "    </tr>\n",
       "</table>"
      ],
      "text/plain": [
       "[('moveis_escritorio', 'office_furniture', 1207, 3.663628831814416, 3.724399206955795),\n",
       " ('audio', 'audio', 341, 3.8475073313782993, 3.9375779744672905),\n",
       " (None, None, 1361, 3.9581190301249083, 3.975163154507882),\n",
       " ('fashion_roupa_masculina', 'fashion_male_clothing', 99, 3.7777777777777777, 3.987390248116402),\n",
       " ('telefonia_fixa', 'fixed_telephony', 212, 3.891509433962264, 3.9884215635602045)]"
      ]
     },
     "execution_count": 25,
     "metadata": {},
     "output_type": "execute_result"
    }
   ],
   "source": [
    "%%sql\n",
    "SELECT * \n",
    "FROM category_reviews_scores \n",
    "ORDER BY category_bayes_avg\n",
    "LIMIT 5;"
   ]
  },
  {
   "cell_type": "markdown",
   "id": "artistic-depression",
   "metadata": {},
   "source": [
    "It looks like office furniture products tend to have the worst ratings.<br><br>\n",
    "Also, we have a considerable amount of reviews for products that don't have any category information ( ```None``` ). <br>\n",
    "We can remove"
   ]
  },
  {
   "cell_type": "code",
   "execution_count": 26,
   "id": "insured-sperm",
   "metadata": {},
   "outputs": [
    {
     "data": {
      "text/html": [
       "<table>\n",
       "    <tr>\n",
       "        <th>product_category_name</th>\n",
       "        <th>product_category_name_english</th>\n",
       "        <th>category_reviews_count</th>\n",
       "        <th>category_reviews_avg</th>\n",
       "        <th>category_bayes_avg</th>\n",
       "    </tr>\n",
       "    <tr>\n",
       "        <td>moveis_escritorio</td>\n",
       "        <td>office_furniture</td>\n",
       "        <td>1207</td>\n",
       "        <td>3.663628831814416</td>\n",
       "        <td>3.724399206955795</td>\n",
       "    </tr>\n",
       "    <tr>\n",
       "        <td>audio</td>\n",
       "        <td>audio</td>\n",
       "        <td>341</td>\n",
       "        <td>3.8475073313782993</td>\n",
       "        <td>3.9375779744672905</td>\n",
       "    </tr>\n",
       "    <tr>\n",
       "        <td>fashion_roupa_masculina</td>\n",
       "        <td>fashion_male_clothing</td>\n",
       "        <td>99</td>\n",
       "        <td>3.7777777777777777</td>\n",
       "        <td>3.987390248116402</td>\n",
       "    </tr>\n",
       "    <tr>\n",
       "        <td>telefonia_fixa</td>\n",
       "        <td>fixed_telephony</td>\n",
       "        <td>212</td>\n",
       "        <td>3.891509433962264</td>\n",
       "        <td>3.9884215635602045</td>\n",
       "    </tr>\n",
       "    <tr>\n",
       "        <td>construcao_ferramentas_seguranca</td>\n",
       "        <td>construction_tools_safety</td>\n",
       "        <td>157</td>\n",
       "        <td>3.859872611464968</td>\n",
       "        <td>3.9894388912795637</td>\n",
       "    </tr>\n",
       "</table>"
      ],
      "text/plain": [
       "[('moveis_escritorio', 'office_furniture', 1207, 3.663628831814416, 3.724399206955795),\n",
       " ('audio', 'audio', 341, 3.8475073313782993, 3.9375779744672905),\n",
       " ('fashion_roupa_masculina', 'fashion_male_clothing', 99, 3.7777777777777777, 3.987390248116402),\n",
       " ('telefonia_fixa', 'fixed_telephony', 212, 3.891509433962264, 3.9884215635602045),\n",
       " ('construcao_ferramentas_seguranca', 'construction_tools_safety', 157, 3.859872611464968, 3.9894388912795637)]"
      ]
     },
     "execution_count": 26,
     "metadata": {},
     "output_type": "execute_result"
    }
   ],
   "source": [
    "%%sql\n",
    "SELECT * \n",
    "FROM category_reviews_scores \n",
    "WHERE product_category_name IS NOT NULL\n",
    "ORDER BY category_bayes_avg\n",
    "LIMIT 5;"
   ]
  },
  {
   "cell_type": "code",
   "execution_count": null,
   "id": "qualified-sending",
   "metadata": {},
   "outputs": [],
   "source": []
  },
  {
   "cell_type": "code",
   "execution_count": null,
   "id": "oriental-output",
   "metadata": {},
   "outputs": [],
   "source": []
  }
 ],
 "metadata": {
  "kernelspec": {
   "display_name": "Python 3",
   "language": "python",
   "name": "python3"
  },
  "language_info": {
   "codemirror_mode": {
    "name": "ipython",
    "version": 3
   },
   "file_extension": ".py",
   "mimetype": "text/x-python",
   "name": "python",
   "nbconvert_exporter": "python",
   "pygments_lexer": "ipython3",
   "version": "3.8.3"
  }
 },
 "nbformat": 4,
 "nbformat_minor": 5
}
