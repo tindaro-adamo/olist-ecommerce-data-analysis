{
 "cells": [
  {
   "cell_type": "markdown",
   "id": "portable-petersburg",
   "metadata": {},
   "source": [
    "<img src = \"https://i.imgur.com/HRhd2Y0.png\">"
   ]
  },
  {
   "cell_type": "code",
   "execution_count": 1,
   "id": "intensive-newspaper",
   "metadata": {},
   "outputs": [],
   "source": [
    "import pandas as pd\n",
    "import sqlite3"
   ]
  },
  {
   "cell_type": "code",
   "execution_count": 22,
   "id": "endangered-assist",
   "metadata": {},
   "outputs": [],
   "source": [
    "orders_df = pd.read_csv('../data/raw/olist_orders_dataset.csv')\n",
    "orders_items_df = pd.read_csv('../data/raw/olist_order_items_dataset.csv')\n",
    "products_df = pd.read_csv('../data/raw/olist_products_dataset.csv')\n",
    "customers_df = pd.read_csv('../data/raw/olist_customers_dataset.csv')\n",
    "reviews_df = pd.read_csv('../data/raw/olist_order_reviews_dataset.csv')\n",
    "category_translations_df = pd.read_csv('../data/raw/product_category_name_translation.csv')"
   ]
  },
  {
   "cell_type": "code",
   "execution_count": 23,
   "id": "indie-layer",
   "metadata": {},
   "outputs": [],
   "source": [
    "# Connect to sqlite db and create tables if they don't exist\n",
    "cnx = sqlite3.connect('olist.db')\n",
    "\n",
    "orders_df.to_sql(name='orders', con=cnx, if_exists='replace', index=False)\n",
    "orders_items_df.to_sql(name='orders_items', con=cnx, if_exists='replace', index=False)\n",
    "products_df.to_sql(name='products', con=cnx, if_exists='replace', index=False)\n",
    "customers_df.to_sql(name='customers', con=cnx, if_exists='replace', index=False)\n",
    "reviews_df.to_sql(name='order_reviews', con=cnx, if_exists='replace', index=False)\n",
    "category_translations_df.to_sql(name='category_translations', con=cnx, if_exists='replace', index=False)"
   ]
  },
  {
   "cell_type": "code",
   "execution_count": 4,
   "id": "religious-tumor",
   "metadata": {},
   "outputs": [],
   "source": [
    "%%capture\n",
    "%load_ext sql\n",
    "%sql sqlite:///olist.db"
   ]
  },
  {
   "cell_type": "markdown",
   "id": "supposed-competition",
   "metadata": {},
   "source": [
    "## Question 1 : which category has the best and worst ratings?"
   ]
  },
  {
   "cell_type": "markdown",
   "id": "informational-crime",
   "metadata": {},
   "source": [
    "order_items is the table that should give us the connection between an orders and products.\n",
    "<br><br>\n",
    "To understand better the relationship between orders, items, products and category, we will first have to explore some of these fields."
   ]
  },
  {
   "cell_type": "markdown",
   "id": "electrical-edinburgh",
   "metadata": {},
   "source": [
    "### Order items exploration\n",
    "In the description of the dataset on Kaggle we can read the following note:\n",
    ">\"An order might have multiple items.\"\n",
    "\n",
    "<br>\n",
    "Let's validate this assumption by using order_item_id in order_items table."
   ]
  },
  {
   "cell_type": "code",
   "execution_count": 5,
   "id": "destroyed-grace",
   "metadata": {
    "scrolled": true
   },
   "outputs": [
    {
     "name": "stdout",
     "output_type": "stream",
     "text": [
      " * sqlite:///olist.db\n",
      "Done.\n"
     ]
    },
    {
     "data": {
      "text/html": [
       "<table>\n",
       "    <tr>\n",
       "        <th>orders_with_multiple_items_count</th>\n",
       "        <th>percentage_of_orders</th>\n",
       "        <th>max_items_count</th>\n",
       "    </tr>\n",
       "    <tr>\n",
       "        <td>9803</td>\n",
       "        <td>9.858</td>\n",
       "        <td>21</td>\n",
       "    </tr>\n",
       "</table>"
      ],
      "text/plain": [
       "[(9803, 9.858, 21)]"
      ]
     },
     "execution_count": 5,
     "metadata": {},
     "output_type": "execute_result"
    }
   ],
   "source": [
    "%%sql\n",
    "WITH orders_with_multiple_items AS ( \n",
    "    SELECT COUNT(DISTINCT order_item_id) AS items_count, order_id\n",
    "    FROM orders_items\n",
    "    GROUP BY order_id\n",
    "    HAVING items_count>1\n",
    "    ORDER BY items_count DESC)\n",
    "SELECT \n",
    "    COUNT(*) AS orders_with_multiple_items_count, \n",
    "    ROUND(\n",
    "        CAST( COUNT(*) AS FLOAT) / ( SELECT COUNT(*) FROM orders) * 100, 3\n",
    "    ) AS percentage_of_orders,\n",
    "    MAX(items_count) AS max_items_count\n",
    "FROM orders_with_multiple_items m\n",
    "LIMIT 5;"
   ]
  },
  {
   "cell_type": "markdown",
   "id": "growing-surface",
   "metadata": {},
   "source": [
    "So it looks like there are multiple orders that have multiple items.\n",
    "In the documentation, order_item_id is described as : \n",
    ">sequential number identifying number of items included in the same order."
   ]
  },
  {
   "cell_type": "markdown",
   "id": "flexible-leone",
   "metadata": {},
   "source": [
    "### Products exploration\n",
    "\n",
    "Our business question is about the **category** that has the best/worst ratings.<br>\n",
    "Looking at the products table, we can see that category is a feature of a product, so we will have to focus on product_id column in order_items table."
   ]
  },
  {
   "cell_type": "code",
   "execution_count": 6,
   "id": "continent-knock",
   "metadata": {},
   "outputs": [
    {
     "name": "stdout",
     "output_type": "stream",
     "text": [
      " * sqlite:///olist.db\n",
      "Done.\n"
     ]
    },
    {
     "data": {
      "text/html": [
       "<table>\n",
       "    <tr>\n",
       "        <th>orders_with_multiple_prods_count</th>\n",
       "        <th>percentage_of_orders</th>\n",
       "        <th>max_prods_count</th>\n",
       "    </tr>\n",
       "    <tr>\n",
       "        <td>3236</td>\n",
       "        <td>3.254</td>\n",
       "        <td>8</td>\n",
       "    </tr>\n",
       "</table>"
      ],
      "text/plain": [
       "[(3236, 3.254, 8)]"
      ]
     },
     "execution_count": 6,
     "metadata": {},
     "output_type": "execute_result"
    }
   ],
   "source": [
    "%%sql\n",
    "WITH orders_with_multiple_prods AS ( \n",
    "    SELECT COUNT(DISTINCT product_id) AS prods_count, order_id\n",
    "    FROM orders_items\n",
    "    GROUP BY order_id\n",
    "    HAVING prods_count>1\n",
    "    ORDER BY prods_count DESC)\n",
    "SELECT \n",
    "    COUNT(*) AS orders_with_multiple_prods_count,\n",
    "    ROUND(\n",
    "       CAST( COUNT(*) AS FLOAT) / ( SELECT COUNT(*) FROM orders) * 100, 3\n",
    "    ) AS percentage_of_orders,\n",
    "    MAX(prods_count) AS max_prods_count\n",
    "FROM orders_with_multiple_prods m;"
   ]
  },
  {
   "cell_type": "markdown",
   "id": "sufficient-blanket",
   "metadata": {},
   "source": [
    "A little more than 3% of orders have multiple products and the highest amount of products is 8.\n",
    "<br><br>\n",
    "The only information about reviews we have is located in the order_reviews table, where each review is referring to a specific order, not to a product.\n",
    "<br><br>\n",
    "Therefore, to find the category with the worst/best ratings, we would have to look at products in each order. <br>\n",
    "Orders with multiple products complicate the analysis because we can't easily find, for a given order review, which product contributed to it and with which weight.\n",
    "<br><br>\n",
    "Since we found out that just about 3% of orders have multiple products, we are going to exclude them from the order reviews analysis."
   ]
  },
  {
   "cell_type": "markdown",
   "id": "southeast-accessory",
   "metadata": {},
   "source": [
    "### Reviews exploration"
   ]
  },
  {
   "cell_type": "code",
   "execution_count": 7,
   "id": "pharmaceutical-huntington",
   "metadata": {
    "scrolled": false
   },
   "outputs": [
    {
     "name": "stdout",
     "output_type": "stream",
     "text": [
      " * sqlite:///olist.db\n",
      "Done.\n"
     ]
    },
    {
     "data": {
      "text/html": [
       "<table>\n",
       "    <tr>\n",
       "        <th>unique_review_id</th>\n",
       "        <th>unique_order_id</th>\n",
       "    </tr>\n",
       "    <tr>\n",
       "        <td>98410</td>\n",
       "        <td>98673</td>\n",
       "    </tr>\n",
       "</table>"
      ],
      "text/plain": [
       "[(98410, 98673)]"
      ]
     },
     "execution_count": 7,
     "metadata": {},
     "output_type": "execute_result"
    }
   ],
   "source": [
    "%%sql\n",
    "SELECT COUNT(DISTINCT review_id) AS unique_review_id,\n",
    "    COUNT(DISTINCT order_id) AS unique_order_id\n",
    "FROM order_reviews;"
   ]
  },
  {
   "cell_type": "markdown",
   "id": "promotional-military",
   "metadata": {},
   "source": [
    "The number of unique review_id and order_id don't match. \n",
    "We are going to look for duplicate order_id or review_id."
   ]
  },
  {
   "cell_type": "markdown",
   "id": "fatal-legislature",
   "metadata": {},
   "source": [
    "### Duplicate review_id exploration "
   ]
  },
  {
   "cell_type": "code",
   "execution_count": 8,
   "id": "adapted-electron",
   "metadata": {},
   "outputs": [
    {
     "name": "stdout",
     "output_type": "stream",
     "text": [
      " * sqlite:///olist.db\n",
      "Done.\n"
     ]
    },
    {
     "data": {
      "text/html": [
       "<table>\n",
       "    <tr>\n",
       "        <th>order_id</th>\n",
       "        <th>review_id_count</th>\n",
       "    </tr>\n",
       "    <tr>\n",
       "        <td>df56136b8031ecd28e200bb18e6ddb2e</td>\n",
       "        <td>3</td>\n",
       "    </tr>\n",
       "    <tr>\n",
       "        <td>c88b1d1b157a9999ce368f218a407141</td>\n",
       "        <td>3</td>\n",
       "    </tr>\n",
       "    <tr>\n",
       "        <td>8e17072ec97ce29f0e1f111e598b0c85</td>\n",
       "        <td>3</td>\n",
       "    </tr>\n",
       "</table>"
      ],
      "text/plain": [
       "[('df56136b8031ecd28e200bb18e6ddb2e', 3),\n",
       " ('c88b1d1b157a9999ce368f218a407141', 3),\n",
       " ('8e17072ec97ce29f0e1f111e598b0c85', 3)]"
      ]
     },
     "execution_count": 8,
     "metadata": {},
     "output_type": "execute_result"
    }
   ],
   "source": [
    "%%sql\n",
    "SELECT order_id, COUNT( DISTINCT review_id) AS review_id_count\n",
    "FROM order_reviews\n",
    "GROUP BY order_id\n",
    "HAVING COUNT(review_id) > 1\n",
    "ORDER BY COUNT(review_id) DESC\n",
    "LIMIT 3;"
   ]
  },
  {
   "cell_type": "markdown",
   "id": "abstract-energy",
   "metadata": {},
   "source": [
    "It looks like there are multiple reviews for the same order.\n",
    "Let's look at one example with 3 reviews."
   ]
  },
  {
   "cell_type": "code",
   "execution_count": 9,
   "id": "exceptional-scanner",
   "metadata": {},
   "outputs": [
    {
     "name": "stdout",
     "output_type": "stream",
     "text": [
      " * sqlite:///olist.db\n",
      "Done.\n"
     ]
    },
    {
     "data": {
      "text/html": [
       "<table>\n",
       "    <tr>\n",
       "        <th>review_id</th>\n",
       "        <th>order_id</th>\n",
       "        <th>review_score</th>\n",
       "        <th>review_comment_title</th>\n",
       "        <th>review_comment_message</th>\n",
       "        <th>review_creation_date</th>\n",
       "        <th>review_answer_timestamp</th>\n",
       "    </tr>\n",
       "    <tr>\n",
       "        <td>67c2557eb0bd72e3ece1e03477c9dff5</td>\n",
       "        <td>8e17072ec97ce29f0e1f111e598b0c85</td>\n",
       "        <td>1</td>\n",
       "        <td>None</td>\n",
       "        <td>Entregou o produto errado.</td>\n",
       "        <td>2018-04-07 00:00:00</td>\n",
       "        <td>2018-04-08 22:48:27</td>\n",
       "    </tr>\n",
       "    <tr>\n",
       "        <td>2d6ac45f859465b5c185274a1c929637</td>\n",
       "        <td>8e17072ec97ce29f0e1f111e598b0c85</td>\n",
       "        <td>1</td>\n",
       "        <td>None</td>\n",
       "        <td>Comprei 3 unidades do produto vieram 2 unidades que não corresponde com o que comprei. Devido a minha opinião é negativa com relação a esse vendedor pois não não cumpriu com o prometido na venda.</td>\n",
       "        <td>2018-04-07 00:00:00</td>\n",
       "        <td>2018-04-07 21:13:05</td>\n",
       "    </tr>\n",
       "    <tr>\n",
       "        <td>6e4c4086d9611ae4cc0cc65a262751fe</td>\n",
       "        <td>8e17072ec97ce29f0e1f111e598b0c85</td>\n",
       "        <td>1</td>\n",
       "        <td>None</td>\n",
       "        <td>Embora tenha entregue dentro do prazo, não enviou o produto que comprei.</td>\n",
       "        <td>2018-04-14 00:00:00</td>\n",
       "        <td>2018-04-16 11:37:31</td>\n",
       "    </tr>\n",
       "</table>"
      ],
      "text/plain": [
       "[('67c2557eb0bd72e3ece1e03477c9dff5', '8e17072ec97ce29f0e1f111e598b0c85', 1, None, 'Entregou o produto errado.', '2018-04-07 00:00:00', '2018-04-08 22:48:27'),\n",
       " ('2d6ac45f859465b5c185274a1c929637', '8e17072ec97ce29f0e1f111e598b0c85', 1, None, 'Comprei 3 unidades do produto vieram 2 unidades que não corresponde com o que comprei. Devido a minha opinião é negativa com relação a esse vendedor pois não não cumpriu com o prometido na venda.', '2018-04-07 00:00:00', '2018-04-07 21:13:05'),\n",
       " ('6e4c4086d9611ae4cc0cc65a262751fe', '8e17072ec97ce29f0e1f111e598b0c85', 1, None, 'Embora tenha entregue dentro do prazo, não enviou o produto que comprei.', '2018-04-14 00:00:00', '2018-04-16 11:37:31')]"
      ]
     },
     "execution_count": 9,
     "metadata": {},
     "output_type": "execute_result"
    }
   ],
   "source": [
    "%%sql\n",
    "SELECT * FROM reviews WHERE order_id=\"8e17072ec97ce29f0e1f111e598b0c85\""
   ]
  },
  {
   "cell_type": "markdown",
   "id": "professional-sessions",
   "metadata": {},
   "source": [
    "These reviews have a different comment and review_answer_timestamp, <br> <br>\n",
    "\n",
    "review_answer_timestamp : \n",
    ">Shows satisfaction survey answer timestamp.\n",
    "\n",
    "<br>\n",
    "\n",
    "There are also two reviews with the same review_creation_date.\n",
    "\n",
    "review_creation_date :\n",
    ">Shows the date in which the satisfaction survey was sent to the customer.\n",
    "\n",
    "These two reviews' answers were submitted at a different time ( even different day ), so it looks like, unless we have data quality issues, that the user was able to submit answers twice for the same survey.\n",
    "<br><br>\n",
    "\n",
    "But how often does it happen that an order has more than one review and review_answer_timestamp is different? "
   ]
  },
  {
   "cell_type": "code",
   "execution_count": 10,
   "id": "unlikely-pacific",
   "metadata": {
    "scrolled": false
   },
   "outputs": [
    {
     "name": "stdout",
     "output_type": "stream",
     "text": [
      " * sqlite:///olist.db\n",
      "Done.\n"
     ]
    },
    {
     "data": {
      "text/html": [
       "<table>\n",
       "    <tr>\n",
       "        <th>orders_with_multiple_reviews_answers</th>\n",
       "        <th>percentage_of_reviewed_orders</th>\n",
       "    </tr>\n",
       "    <tr>\n",
       "        <td>547</td>\n",
       "        <td>0.554</td>\n",
       "    </tr>\n",
       "</table>"
      ],
      "text/plain": [
       "[(547, 0.554)]"
      ]
     },
     "execution_count": 10,
     "metadata": {},
     "output_type": "execute_result"
    }
   ],
   "source": [
    "%%sql\n",
    "WITH multiple_reviews_orders AS (\n",
    "    SELECT order_id, COUNT(review_id) \n",
    "    FROM order_reviews\n",
    "    GROUP BY order_id\n",
    "    HAVING COUNT(review_id) > 1 AND COUNT(DISTINCT review_answer_timestamp)>1\n",
    "    ORDER BY COUNT(DISTINCT review_id) DESC\n",
    ")\n",
    "SELECT COUNT(*) AS orders_with_multiple_reviews_answers,\n",
    "       ROUND(\n",
    "        CAST( COUNT(*) AS FLOAT) / ( SELECT COUNT(DISTINCT order_id) FROM reviews) * 100, 3\n",
    "       ) AS percentage_of_reviewed_orders\n",
    "FROM multiple_reviews_orders;"
   ]
  },
  {
   "cell_type": "markdown",
   "id": "growing-defeat",
   "metadata": {},
   "source": [
    "And how often does an order have more than one review and review_creation_date is different?"
   ]
  },
  {
   "cell_type": "code",
   "execution_count": 11,
   "id": "above-afghanistan",
   "metadata": {},
   "outputs": [
    {
     "name": "stdout",
     "output_type": "stream",
     "text": [
      " * sqlite:///olist.db\n",
      "Done.\n"
     ]
    },
    {
     "data": {
      "text/html": [
       "<table>\n",
       "    <tr>\n",
       "        <th>orders_with_multiple_reviews_surveys</th>\n",
       "        <th>percentage_of_reviewed_orders</th>\n",
       "    </tr>\n",
       "    <tr>\n",
       "        <td>392</td>\n",
       "        <td>0.397</td>\n",
       "    </tr>\n",
       "</table>"
      ],
      "text/plain": [
       "[(392, 0.397)]"
      ]
     },
     "execution_count": 11,
     "metadata": {},
     "output_type": "execute_result"
    }
   ],
   "source": [
    "%%sql\n",
    "WITH multiple_reviews_orders AS (\n",
    "    SELECT order_id, COUNT(review_id) \n",
    "    FROM order_reviews\n",
    "    GROUP BY order_id\n",
    "    HAVING COUNT(review_id) > 1 AND COUNT(DISTINCT review_creation_date)>1\n",
    "    ORDER BY COUNT(order_id) DESC\n",
    ")\n",
    "SELECT COUNT(*) AS orders_with_multiple_reviews_surveys,\n",
    "       ROUND(\n",
    "        CAST( COUNT(*) AS FLOAT) / ( SELECT COUNT(DISTINCT order_id) FROM reviews) * 100, 3\n",
    "       ) AS percentage_of_reviewed_orders\n",
    "FROM multiple_reviews_orders;"
   ]
  },
  {
   "cell_type": "markdown",
   "id": "opening-margin",
   "metadata": {},
   "source": [
    "There are a few of these cases, but the percentage is not that high.\n",
    "<br><br>\n",
    "Looking at the **reviews dataset** documentation on Kaggle, we can read the following : \n",
    ">This dataset includes data about the reviews made by the customers.\n",
    "After a customer purchases the product from Olist Store a seller gets notified to fulfill that order.<br> Once the customer receives the product, or the estimated delivery date is due, the customer gets a satisfaction survey by email where he can give a note for the purchase experience and write down some comments.\n",
    "\n",
    "<br>\n",
    "From this information it's not very clear how it can happen that an user would get more than one survey for the same order. <br>\n",
    "Regarding the user being able to submit more than one answer for the same survey, we can only guess that the software used to collect reviews doesn't prevent multiple submissions."
   ]
  },
  {
   "cell_type": "markdown",
   "id": "southeast-lawrence",
   "metadata": {},
   "source": [
    "### Duplicate order_id exploration "
   ]
  },
  {
   "cell_type": "code",
   "execution_count": 12,
   "id": "rubber-colorado",
   "metadata": {
    "scrolled": true
   },
   "outputs": [
    {
     "name": "stdout",
     "output_type": "stream",
     "text": [
      " * sqlite:///olist.db\n",
      "Done.\n"
     ]
    },
    {
     "data": {
      "text/html": [
       "<table>\n",
       "    <tr>\n",
       "        <th>COUNT(order_id) - COUNT(DISTINCT order_id)</th>\n",
       "    </tr>\n",
       "    <tr>\n",
       "        <td>551</td>\n",
       "    </tr>\n",
       "</table>"
      ],
      "text/plain": [
       "[(551,)]"
      ]
     },
     "execution_count": 12,
     "metadata": {},
     "output_type": "execute_result"
    }
   ],
   "source": [
    "%%sql\n",
    "SELECT COUNT(order_id) - COUNT(DISTINCT order_id) \n",
    "FROM order_reviews;"
   ]
  },
  {
   "cell_type": "markdown",
   "id": "respected-ordinary",
   "metadata": {},
   "source": [
    "There are some rows with duplicated order_id.<br>\n",
    "So probably some reviews are linked to different orders. <br>\n",
    "Let's see how many.<a id='reviews_with_multiple_orders_count'></a>"
   ]
  },
  {
   "cell_type": "code",
   "execution_count": 13,
   "id": "acquired-guest",
   "metadata": {},
   "outputs": [
    {
     "name": "stdout",
     "output_type": "stream",
     "text": [
      " * sqlite:///olist.db\n",
      "Done.\n"
     ]
    },
    {
     "data": {
      "text/html": [
       "<table>\n",
       "    <tr>\n",
       "        <th>reviews_for_multiple_orders_count</th>\n",
       "        <th>percentage_of_reviews_for_multiple_orders</th>\n",
       "    </tr>\n",
       "    <tr>\n",
       "        <td>789</td>\n",
       "        <td>0.802</td>\n",
       "    </tr>\n",
       "</table>"
      ],
      "text/plain": [
       "[(789, 0.802)]"
      ]
     },
     "execution_count": 13,
     "metadata": {},
     "output_type": "execute_result"
    }
   ],
   "source": [
    "%%sql\n",
    "WITH review_for_multiple_orders AS (\n",
    "    SELECT review_id, COUNT(DISTINCT order_id) \n",
    "    FROM reviews\n",
    "    GROUP BY review_id\n",
    "    HAVING COUNT(DISTINCT order_id) > 1\n",
    "    ORDER BY COUNT(DISTINCT order_id) DESC\n",
    ")\n",
    "SELECT COUNT(*) AS reviews_for_multiple_orders_count,\n",
    "       ROUND(\n",
    "        CAST( COUNT(*) AS FLOAT) / ( SELECT COUNT(DISTINCT review_id) FROM reviews) * 100, 3\n",
    "       ) AS percentage_of_reviews_for_multiple_orders\n",
    "FROM review_for_multiple_orders;"
   ]
  },
  {
   "cell_type": "markdown",
   "id": "miniature-panama",
   "metadata": {},
   "source": [
    "According to the dataset documentation, the customer receives a survey after each order is finalised, therefore this is not expected.<br><br>\n",
    "Let's look closely at the review that is linked to the most amount of orders.<br>\n",
    "We will select a review that has a comment message."
   ]
  },
  {
   "cell_type": "code",
   "execution_count": 14,
   "id": "surprised-filename",
   "metadata": {},
   "outputs": [
    {
     "name": "stdout",
     "output_type": "stream",
     "text": [
      " * sqlite:///olist.db\n",
      "Done.\n"
     ]
    },
    {
     "data": {
      "text/html": [
       "<table>\n",
       "    <tr>\n",
       "        <th>review_id</th>\n",
       "        <th>order_id_count</th>\n",
       "    </tr>\n",
       "    <tr>\n",
       "        <td>dbdf1ea31790c8ecfcc6750525661a9b</td>\n",
       "        <td>3</td>\n",
       "    </tr>\n",
       "</table>"
      ],
      "text/plain": [
       "[('dbdf1ea31790c8ecfcc6750525661a9b', 3)]"
      ]
     },
     "execution_count": 14,
     "metadata": {},
     "output_type": "execute_result"
    }
   ],
   "source": [
    "%%sql\n",
    "SELECT review_id, COUNT(DISTINCT order_id) AS order_id_count\n",
    "FROM order_reviews\n",
    "GROUP BY review_id\n",
    "HAVING COUNT(order_id) > 1 AND review_comment_message IS NOT NULL\n",
    "ORDER BY COUNT(order_id) DESC\n",
    "LIMIT 1;"
   ]
  },
  {
   "cell_type": "code",
   "execution_count": 15,
   "id": "conservative-borough",
   "metadata": {
    "scrolled": true
   },
   "outputs": [
    {
     "name": "stdout",
     "output_type": "stream",
     "text": [
      " * sqlite:///olist.db\n",
      "Done.\n"
     ]
    },
    {
     "data": {
      "text/html": [
       "<table>\n",
       "    <tr>\n",
       "        <th>review_id</th>\n",
       "        <th>order_id</th>\n",
       "        <th>review_score</th>\n",
       "        <th>review_comment_title</th>\n",
       "        <th>review_comment_message</th>\n",
       "        <th>review_creation_date</th>\n",
       "        <th>review_answer_timestamp</th>\n",
       "    </tr>\n",
       "    <tr>\n",
       "        <td>dbdf1ea31790c8ecfcc6750525661a9b</td>\n",
       "        <td>fa06c9f04ef55a2a43f2246a0777b7c8</td>\n",
       "        <td>1</td>\n",
       "        <td>None</td>\n",
       "        <td>O produto veio embalado apenas por um frágil envelope, o que ocasionou o fato da caixa do cartucho ficar totalmente destruída.</td>\n",
       "        <td>2018-03-20 00:00:00</td>\n",
       "        <td>2018-03-21 01:02:05</td>\n",
       "    </tr>\n",
       "    <tr>\n",
       "        <td>dbdf1ea31790c8ecfcc6750525661a9b</td>\n",
       "        <td>3cf387bb14e9db171ccbb9b87ea607bb</td>\n",
       "        <td>1</td>\n",
       "        <td>None</td>\n",
       "        <td>O produto veio embalado apenas por um frágil envelope, o que ocasionou o fato da caixa do cartucho ficar totalmente destruída.</td>\n",
       "        <td>2018-03-20 00:00:00</td>\n",
       "        <td>2018-03-21 01:02:05</td>\n",
       "    </tr>\n",
       "    <tr>\n",
       "        <td>dbdf1ea31790c8ecfcc6750525661a9b</td>\n",
       "        <td>9406240a4e41945ba492020a2702f757</td>\n",
       "        <td>1</td>\n",
       "        <td>None</td>\n",
       "        <td>O produto veio embalado apenas por um frágil envelope, o que ocasionou o fato da caixa do cartucho ficar totalmente destruída.</td>\n",
       "        <td>2018-03-20 00:00:00</td>\n",
       "        <td>2018-03-21 01:02:05</td>\n",
       "    </tr>\n",
       "</table>"
      ],
      "text/plain": [
       "[('dbdf1ea31790c8ecfcc6750525661a9b', 'fa06c9f04ef55a2a43f2246a0777b7c8', 1, None, 'O produto veio embalado apenas por um frágil envelope, o que ocasionou o fato da caixa do cartucho ficar totalmente destruída.', '2018-03-20 00:00:00', '2018-03-21 01:02:05'),\n",
       " ('dbdf1ea31790c8ecfcc6750525661a9b', '3cf387bb14e9db171ccbb9b87ea607bb', 1, None, 'O produto veio embalado apenas por um frágil envelope, o que ocasionou o fato da caixa do cartucho ficar totalmente destruída.', '2018-03-20 00:00:00', '2018-03-21 01:02:05'),\n",
       " ('dbdf1ea31790c8ecfcc6750525661a9b', '9406240a4e41945ba492020a2702f757', 1, None, 'O produto veio embalado apenas por um frágil envelope, o que ocasionou o fato da caixa do cartucho ficar totalmente destruída.', '2018-03-20 00:00:00', '2018-03-21 01:02:05')]"
      ]
     },
     "execution_count": 15,
     "metadata": {},
     "output_type": "execute_result"
    }
   ],
   "source": [
    "%%sql\n",
    "SELECT * FROM reviews WHERE review_id=\"dbdf1ea31790c8ecfcc6750525661a9b\""
   ]
  },
  {
   "cell_type": "markdown",
   "id": "classified-combine",
   "metadata": {},
   "source": [
    "According to this example reviews for multiple order ids are identical (all other columns have same values).<br>\n",
    "Let's see if this is the case for every review with duplicated order_id.<br>"
   ]
  },
  {
   "cell_type": "code",
   "execution_count": 16,
   "id": "downtown-newfoundland",
   "metadata": {
    "scrolled": true
   },
   "outputs": [
    {
     "name": "stdout",
     "output_type": "stream",
     "text": [
      " * sqlite:///olist.db\n",
      "Done.\n"
     ]
    },
    {
     "data": {
      "text/html": [
       "<table>\n",
       "    <tr>\n",
       "        <th>COUNT(*)</th>\n",
       "    </tr>\n",
       "    <tr>\n",
       "        <td>789</td>\n",
       "    </tr>\n",
       "</table>"
      ],
      "text/plain": [
       "[(789,)]"
      ]
     },
     "execution_count": 16,
     "metadata": {},
     "output_type": "execute_result"
    }
   ],
   "source": [
    "%%sql\n",
    "WITH identical_reviews_diff_orders AS\n",
    "(\n",
    "    SELECT COUNT(*), review_id\n",
    "    FROM order_reviews\n",
    "    GROUP BY review_id, \n",
    "            review_score, \n",
    "            review_comment_title,\n",
    "            review_comment_message, review_creation_date,review_answer_timestamp\n",
    "    HAVING COUNT(DISTINCT order_id)>1\n",
    ")\n",
    "SELECT COUNT(*)\n",
    "FROM identical_reviews_diff_orders;\n"
   ]
  },
  {
   "cell_type": "markdown",
   "id": "frozen-rabbit",
   "metadata": {},
   "source": [
    "The number of reviews linked to multiple orders, where all the other columns are identical, is **789**, which exactly matches the overall number of reviews with multiple orders (  [calculated here](#reviews_with_multiple_orders_count) ) \n",
    "<br><br>\n",
    "This seems to be a data quality issue, and it might be confirmed by [this open issue](https://www.kaggle.com/datasets/olistbr/brazilian-ecommerce/discussion/71650?select=olist_order_reviews_dataset.csv&search=review_id) on Kaggle.\n",
    "<br><br>\n",
    "Since the issue is still not resolved, we will simply just ignore those reviews for our case study analysis. <br>\n",
    "In a real world scenario we might have handled the issue in different ways, depending on the root cause. <br>"
   ]
  },
  {
   "cell_type": "markdown",
   "id": "demographic-australian",
   "metadata": {},
   "source": [
    "### Product Category exploration "
   ]
  },
  {
   "cell_type": "code",
   "execution_count": 17,
   "id": "polished-frank",
   "metadata": {
    "scrolled": true
   },
   "outputs": [
    {
     "name": "stdout",
     "output_type": "stream",
     "text": [
      " * sqlite:///olist.db\n",
      "Done.\n"
     ]
    },
    {
     "data": {
      "text/html": [
       "<table>\n",
       "    <tr>\n",
       "        <th>prods_without_category</th>\n",
       "        <th>percentage</th>\n",
       "    </tr>\n",
       "    <tr>\n",
       "        <td>610</td>\n",
       "        <td>1.851</td>\n",
       "    </tr>\n",
       "</table>"
      ],
      "text/plain": [
       "[(610, 1.851)]"
      ]
     },
     "execution_count": 17,
     "metadata": {},
     "output_type": "execute_result"
    }
   ],
   "source": [
    "%%sql\n",
    "\n",
    "SELECT COUNT(*) AS prods_without_category,\n",
    "        ROUND(\n",
    "                CAST( COUNT(*) AS FLOAT) / ( SELECT COUNT(DISTINCT product_id) FROM products) * 100, 3\n",
    "               ) AS percentage\n",
    "FROM products \n",
    "WHERE product_category_name IS NULL;"
   ]
  },
  {
   "cell_type": "markdown",
   "id": "indian-integration",
   "metadata": {},
   "source": [
    "We have a small percentage of products that are not assigned to any category."
   ]
  },
  {
   "cell_type": "markdown",
   "id": "nuclear-lyric",
   "metadata": {},
   "source": [
    "### Summary of what we found out :\n",
    "<br>\n",
    "\n",
    "- About 3% of orders have different kind of products. This is normal and expected, but we will ignore them to simplify the analysis about categories.\n",
    "<br><br>\n",
    "\n",
    "- An order can have multiple reviews. This wasn't clear after reading the documentation but we can take into account every review for an order.\n",
    "<br><br>\n",
    "\n",
    "- A review can refer to different orders. This wasn't expected and it's probably related to a data quality issue. We will ignore these reviews."
   ]
  },
  {
   "cell_type": "code",
   "execution_count": 61,
   "id": "opposed-russian",
   "metadata": {},
   "outputs": [
    {
     "name": "stdout",
     "output_type": "stream",
     "text": [
      " * sqlite:///olist.db\n",
      "Done.\n",
      "Done.\n"
     ]
    },
    {
     "data": {
      "text/plain": [
       "[]"
      ]
     },
     "execution_count": 61,
     "metadata": {},
     "output_type": "execute_result"
    }
   ],
   "source": [
    "%%sql\n",
    "DROP VIEW category_scores;\n",
    "CREATE VIEW category_scores \n",
    "AS \n",
    "    WITH orders_with_single_prods AS ( \n",
    "        SELECT order_id,product_id\n",
    "        FROM orders_items\n",
    "        GROUP BY order_id\n",
    "        HAVING COUNT(DISTINCT product_id)==1\n",
    "    ),\n",
    "    reviews_for_single_orders AS (\n",
    "        SELECT *, COUNT(DISTINCT order_id) \n",
    "        FROM order_reviews\n",
    "        GROUP BY review_id\n",
    "        HAVING COUNT(DISTINCT order_id)==1\n",
    "    )\n",
    "    SELECT p.product_category_name, t.product_category_name_english,\n",
    "           ROUND(AVG(o_r.review_score),3) AS avg_review_score\n",
    "    FROM orders_with_single_prods o_i\n",
    "        JOIN products p ON o_i.product_id=p.product_id\n",
    "        JOIN reviews_for_single_orders o_r ON o_r.order_id=o_i.order_id\n",
    "        LEFT JOIN category_translations t ON t.product_category_name=p.product_category_name\n",
    "    GROUP BY p.product_category_name\n",
    "    ORDER BY avg_review_score DESC;     "
   ]
  },
  {
   "cell_type": "markdown",
   "id": "personal-willow",
   "metadata": {},
   "source": [
    "### Top 5 categories with best reviews"
   ]
  },
  {
   "cell_type": "code",
   "execution_count": 62,
   "id": "oriental-russian",
   "metadata": {},
   "outputs": [
    {
     "name": "stdout",
     "output_type": "stream",
     "text": [
      " * sqlite:///olist.db\n",
      "Done.\n"
     ]
    },
    {
     "data": {
      "text/html": [
       "<table>\n",
       "    <tr>\n",
       "        <th>product_category_name</th>\n",
       "        <th>product_category_name_english</th>\n",
       "        <th>avg_review_score</th>\n",
       "    </tr>\n",
       "    <tr>\n",
       "        <td>cds_dvds_musicais</td>\n",
       "        <td>cds_dvds_musicals</td>\n",
       "        <td>4.667</td>\n",
       "    </tr>\n",
       "    <tr>\n",
       "        <td>flores</td>\n",
       "        <td>flowers</td>\n",
       "        <td>4.538</td>\n",
       "    </tr>\n",
       "    <tr>\n",
       "        <td>la_cuisine</td>\n",
       "        <td>la_cuisine</td>\n",
       "        <td>4.5</td>\n",
       "    </tr>\n",
       "    <tr>\n",
       "        <td>livros_interesse_geral</td>\n",
       "        <td>books_general_interest</td>\n",
       "        <td>4.478</td>\n",
       "    </tr>\n",
       "    <tr>\n",
       "        <td>livros_tecnicos</td>\n",
       "        <td>books_technical</td>\n",
       "        <td>4.448</td>\n",
       "    </tr>\n",
       "</table>"
      ],
      "text/plain": [
       "[('cds_dvds_musicais', 'cds_dvds_musicals', 4.667),\n",
       " ('flores', 'flowers', 4.538),\n",
       " ('la_cuisine', 'la_cuisine', 4.5),\n",
       " ('livros_interesse_geral', 'books_general_interest', 4.478),\n",
       " ('livros_tecnicos', 'books_technical', 4.448)]"
      ]
     },
     "execution_count": 62,
     "metadata": {},
     "output_type": "execute_result"
    }
   ],
   "source": [
    "%%sql\n",
    "SELECT * \n",
    "FROM category_scores\n",
    "ORDER BY avg_review_score DESC\n",
    "LIMIT 5;"
   ]
  },
  {
   "cell_type": "markdown",
   "id": "personalized-california",
   "metadata": {},
   "source": [
    "### Top 5 categories with worst reviews"
   ]
  },
  {
   "cell_type": "code",
   "execution_count": 63,
   "id": "median-apache",
   "metadata": {},
   "outputs": [
    {
     "name": "stdout",
     "output_type": "stream",
     "text": [
      " * sqlite:///olist.db\n",
      "Done.\n"
     ]
    },
    {
     "data": {
      "text/html": [
       "<table>\n",
       "    <tr>\n",
       "        <th>product_category_name</th>\n",
       "        <th>product_category_name_english</th>\n",
       "        <th>avg_review_score</th>\n",
       "    </tr>\n",
       "    <tr>\n",
       "        <td>seguros_e_servicos</td>\n",
       "        <td>security_and_services</td>\n",
       "        <td>2.5</td>\n",
       "    </tr>\n",
       "    <tr>\n",
       "        <td>portateis_cozinha_e_preparadores_de_alimentos</td>\n",
       "        <td>None</td>\n",
       "        <td>3.429</td>\n",
       "    </tr>\n",
       "    <tr>\n",
       "        <td>pc_gamer</td>\n",
       "        <td>None</td>\n",
       "        <td>3.429</td>\n",
       "    </tr>\n",
       "    <tr>\n",
       "        <td>moveis_escritorio</td>\n",
       "        <td>office_furniture</td>\n",
       "        <td>3.664</td>\n",
       "    </tr>\n",
       "    <tr>\n",
       "        <td>fraldas_higiene</td>\n",
       "        <td>diapers_and_hygiene</td>\n",
       "        <td>3.741</td>\n",
       "    </tr>\n",
       "</table>"
      ],
      "text/plain": [
       "[('seguros_e_servicos', 'security_and_services', 2.5),\n",
       " ('portateis_cozinha_e_preparadores_de_alimentos', None, 3.429),\n",
       " ('pc_gamer', None, 3.429),\n",
       " ('moveis_escritorio', 'office_furniture', 3.664),\n",
       " ('fraldas_higiene', 'diapers_and_hygiene', 3.741)]"
      ]
     },
     "execution_count": 63,
     "metadata": {},
     "output_type": "execute_result"
    }
   ],
   "source": [
    "%%sql\n",
    "SELECT * \n",
    "FROM category_scores\n",
    "ORDER BY avg_review_score\n",
    "LIMIT 5;"
   ]
  },
  {
   "cell_type": "code",
   "execution_count": null,
   "id": "parallel-breeding",
   "metadata": {},
   "outputs": [],
   "source": []
  },
  {
   "cell_type": "code",
   "execution_count": null,
   "id": "floating-neighbor",
   "metadata": {},
   "outputs": [],
   "source": []
  },
  {
   "cell_type": "code",
   "execution_count": null,
   "id": "daily-range",
   "metadata": {},
   "outputs": [],
   "source": []
  }
 ],
 "metadata": {
  "kernelspec": {
   "display_name": "Python 3",
   "language": "python",
   "name": "python3"
  },
  "language_info": {
   "codemirror_mode": {
    "name": "ipython",
    "version": 3
   },
   "file_extension": ".py",
   "mimetype": "text/x-python",
   "name": "python",
   "nbconvert_exporter": "python",
   "pygments_lexer": "ipython3",
   "version": "3.8.3"
  }
 },
 "nbformat": 4,
 "nbformat_minor": 5
}
